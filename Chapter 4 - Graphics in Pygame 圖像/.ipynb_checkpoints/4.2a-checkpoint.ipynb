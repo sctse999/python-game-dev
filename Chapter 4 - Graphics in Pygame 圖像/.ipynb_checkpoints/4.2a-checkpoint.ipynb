{
 "cells": [
  {
   "cell_type": "markdown",
   "id": "3da39c9a-05ac-466a-9a8e-4319221ce5aa",
   "metadata": {},
   "source": [
    "# 4.2a 顯示圖像\n",
    "\n",
    "完成以下程式，顯示一個靜止的圖像："
   ]
  },
  {
   "cell_type": "code",
   "execution_count": null,
   "id": "6192d01a-60ab-425c-87fc-97b4ae3dc312",
   "metadata": {},
   "outputs": [],
   "source": [
    "%run code/init.ipynb\n",
    "\n",
    "# TODO: 完成圖像定義\n",
    "image_surf = \n",
    "\n",
    "# TODO: 顯示圖像 (在 screen 圖層上)\n",
    "screen.\n",
    "# TODO End\n",
    "\n",
    "%run code/end.ipynb"
   ]
  },
  {
   "cell_type": "markdown",
   "id": "6148e030-6f80-4fee-b94d-3d05136b2919",
   "metadata": {},
   "source": [
    "完成後，試將圖片放在不同地方"
   ]
  },
  {
   "cell_type": "markdown",
   "id": "f31b5a7b-d98d-4053-a2d2-fb3ee92c88af",
   "metadata": {
    "jp-MarkdownHeadingCollapsed": true
   },
   "source": [
    "#### Answer 答案"
   ]
  },
  {
   "cell_type": "code",
   "execution_count": 6,
   "id": "4b134a12-2411-4bcb-9638-16f22d1c3aed",
   "metadata": {},
   "outputs": [],
   "source": [
    "%run code/init.ipynb\n",
    "\n",
    "# TODO: 完成圖像定義\n",
    "image_surf = pygame.image.load(\"../graphics/smile.png\")\n",
    "\n",
    "# TODO: 顯示圖像 (在 screen 圖層上)\n",
    "screen.blit(image_surf, (0, 0))\n",
    "# TODO End\n",
    "\n",
    "%run code/end.ipynb"
   ]
  }
 ],
 "metadata": {
  "kernelspec": {
   "display_name": "Python 3 (ipykernel)",
   "language": "python",
   "name": "python3"
  },
  "language_info": {
   "codemirror_mode": {
    "name": "ipython",
    "version": 3
   },
   "file_extension": ".py",
   "mimetype": "text/x-python",
   "name": "python",
   "nbconvert_exporter": "python",
   "pygments_lexer": "ipython3",
   "version": "3.11.5"
  }
 },
 "nbformat": 4,
 "nbformat_minor": 5
}
