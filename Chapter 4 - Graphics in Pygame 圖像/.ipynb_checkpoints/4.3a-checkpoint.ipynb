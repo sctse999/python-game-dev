{
 "cells": [
  {
   "cell_type": "markdown",
   "id": "1bea457c-776f-4d36-a400-8162c8901cc7",
   "metadata": {},
   "source": [
    "# 4.3a 顯示文字\n",
    "\n",
    "根據筆記指示，顯示自定義的文字"
   ]
  },
  {
   "cell_type": "code",
   "execution_count": null,
   "id": "17f180a5-4e26-44b1-b6b8-b5f8122c493e",
   "metadata": {},
   "outputs": [],
   "source": []
  }
 ],
 "metadata": {
  "kernelspec": {
   "display_name": "Python 3 (ipykernel)",
   "language": "python",
   "name": "python3"
  },
  "language_info": {
   "codemirror_mode": {
    "name": "ipython",
    "version": 3
   },
   "file_extension": ".py",
   "mimetype": "text/x-python",
   "name": "python",
   "nbconvert_exporter": "python",
   "pygments_lexer": "ipython3",
   "version": "3.11.5"
  }
 },
 "nbformat": 4,
 "nbformat_minor": 5
}
