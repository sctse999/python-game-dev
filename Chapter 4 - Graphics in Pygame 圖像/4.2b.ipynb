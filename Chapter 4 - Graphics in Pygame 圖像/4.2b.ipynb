{
 "cells": [
  {
   "cell_type": "markdown",
   "id": "3da39c9a-05ac-466a-9a8e-4319221ce5aa",
   "metadata": {},
   "source": [
    "# 4.2b 使用 Rect\n",
    "\n",
    "現在，修改程式碼，改用 Rect 顯示圖像，並將其放在畫面正中央：\n",
    "\n",
    "想一想：我們應該使用哪一個定位點呢？座標又應該放在哪裏？"
   ]
  },
  {
   "cell_type": "code",
   "execution_count": null,
   "id": "6192d01a-60ab-425c-87fc-97b4ae3dc312",
   "metadata": {},
   "outputs": [],
   "source": [
    "%run code/init.ipynb\n",
    "\n",
    "image_surf = pygame.image.load(\"../graphics/smile.png\")\n",
    "\n",
    "# TODO: 完成 Rect 定義\n",
    "image_rect = \n",
    "\n",
    "# TODO: 透過 Rect 顯示圖像\n",
    "screen.blit()\n",
    "\n",
    "# TODO End\n",
    "\n",
    "%run code/end.ipynb"
   ]
  },
  {
   "cell_type": "markdown",
   "id": "6148e030-6f80-4fee-b94d-3d05136b2919",
   "metadata": {},
   "source": [
    "完成後，試將圖片的定位點和其座標更改，放在不同的位置﹐如邊界或角落。"
   ]
  },
  {
   "cell_type": "markdown",
   "id": "f31b5a7b-d98d-4053-a2d2-fb3ee92c88af",
   "metadata": {},
   "source": [
    "#### Answer 答案"
   ]
  },
  {
   "cell_type": "code",
   "execution_count": null,
   "id": "4b134a12-2411-4bcb-9638-16f22d1c3aed",
   "metadata": {},
   "outputs": [],
   "source": [
    "%run code/init.ipynb\n",
    "\n",
    "# TODO: 完成圖像定義\n",
    "image_surf = pygame.image.load(\"../graphics/smile.png\")\n",
    "image_rect = image_surf.get_rect(center = (400, 300))\n",
    "\n",
    "# TODO: 顯示圖像 (在 screen 圖層上)\n",
    "screen.blit(image_surf, image_rect)\n",
    "\n",
    "# TODO End\n",
    "\n",
    "%run code/end.ipynb"
   ]
  }
 ],
 "metadata": {
  "kernelspec": {
   "display_name": "Python 3 (ipykernel)",
   "language": "python",
   "name": "python3"
  },
  "language_info": {
   "codemirror_mode": {
    "name": "ipython",
    "version": 3
   },
   "file_extension": ".py",
   "mimetype": "text/x-python",
   "name": "python",
   "nbconvert_exporter": "python",
   "pygments_lexer": "ipython3",
   "version": "3.11.5"
  }
 },
 "nbformat": 4,
 "nbformat_minor": 5
}
