{
 "cells": [
  {
   "cell_type": "code",
   "execution_count": null,
   "id": "694e8c4f-fe72-42eb-9c1a-c0595a3dc7a8",
   "metadata": {},
   "outputs": [],
   "source": [
    "for event in pygame.event.get():\n",
    "    if event.type == pygame.QUIT:\n",
    "        running = False"
   ]
  }
 ],
 "metadata": {
  "kernelspec": {
   "display_name": "Python 3 (ipykernel)",
   "language": "python",
   "name": "python3"
  },
  "language_info": {
   "codemirror_mode": {
    "name": "ipython",
    "version": 3
   },
   "file_extension": ".py",
   "mimetype": "text/x-python",
   "name": "python",
   "nbconvert_exporter": "python",
   "pygments_lexer": "ipython3",
   "version": "3.11.5"
  }
 },
 "nbformat": 4,
 "nbformat_minor": 5
}
