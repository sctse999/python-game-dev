{
 "cells": [
  {
   "cell_type": "markdown",
   "id": "51af77b5-ec4c-4d21-9e59-898b3c303ef5",
   "metadata": {},
   "source": [
    "# 4.2d 繪製背景\n",
    "\n",
    "在下方適當位置加上 `screen.fill()` 指令，令軌跡消失。\n",
    "\n",
    "提示：背景應該比所有物件先繪製或遲繪製？"
   ]
  },
  {
   "cell_type": "code",
   "execution_count": null,
   "id": "eb060af1-8fbe-4088-845a-e1c30fbcbd75",
   "metadata": {
    "editable": true,
    "slideshow": {
     "slide_type": ""
    },
    "tags": []
   },
   "outputs": [],
   "source": [
    "%run code/init.ipynb\n",
    "\n",
    "# 初始化變量\n",
    "image_surf = pygame.image.load(\"../graphics/smile.png\") # Load the image at the path provided\n",
    "image_rect = image_surf.get_rect(midtop = (400,0))\n",
    "screen.blit(image_surf, image_rect)\n",
    "\n",
    "# 主循𤧖\n",
    "while running:\n",
    "    %run code/exit.ipynb # 處理遊戲退出\n",
    "            \n",
    "    # TODO: 在下方適當位置加上加上 screen.fill(...)\n",
    "    \n",
    "    image_rect.y += 5                       # Move the image downwards (+y) by n pixels\n",
    "    screen.blit(image_surf, image_rect)     # Render the image\n",
    "    pygame.display.update()                 # Update the Screen\n",
    "    clock.tick(60)                          # Refresh Rate (FPS)\n",
    "    \n",
    "    # TODO End\n",
    "\n",
    "pygame.quit() "
   ]
  },
  {
   "cell_type": "markdown",
   "id": "c7ce7c3a-ec72-4fcb-bf7c-d02cfaf65505",
   "metadata": {},
   "source": [
    "<hr>\n",
    "試用 `../graphics/bg.png` 作背景，令軌跡消失。"
   ]
  },
  {
   "cell_type": "code",
   "execution_count": null,
   "id": "bfbbdcf2-933e-404d-850b-3cf8ea571abe",
   "metadata": {},
   "outputs": [],
   "source": [
    "%run code/init.ipynb\n",
    "\n",
    "# 初始化變量\n",
    "image_surf = pygame.image.load(\"../graphics/smile.png\") # Load the image at the path provided\n",
    "image_rect = image_surf.get_rect(midtop = (400,0))\n",
    "screen.blit(image_surf, image_rect)\n",
    "\n",
    "# TODO: 定義背景圖片，可參考 image_surf 及 image_rect\n",
    "\n",
    "\n",
    "\n",
    "# TODO End\n",
    "\n",
    "# 主循𤧖\n",
    "while running:\n",
    "    %run code/exit.ipynb # 處理遊戲退出\n",
    "            \n",
    "    # TODO: 在下方適當位置加上加上 screen.blit(...)\n",
    "    \n",
    "    image_rect.y += 5                       # Move the image downwards (+y) by n pixels\n",
    "    screen.blit(image_surf, image_rect)     # Render the image\n",
    "    pygame.display.update()                 # Update the Screen\n",
    "    clock.tick(60)                          # Refresh Rate (FPS)\n",
    "    \n",
    "    # TODO End\n",
    "\n",
    "pygame.quit() "
   ]
  },
  {
   "cell_type": "markdown",
   "id": "e9b4fde3-62ee-4e7e-8171-dd8e60e17c2d",
   "metadata": {
    "editable": true,
    "jp-MarkdownHeadingCollapsed": true,
    "slideshow": {
     "slide_type": ""
    },
    "tags": []
   },
   "source": [
    "#### Answer 答案"
   ]
  },
  {
   "cell_type": "code",
   "execution_count": null,
   "id": "368ae488-3e4f-4609-89c1-5399ecf644dd",
   "metadata": {
    "editable": true,
    "slideshow": {
     "slide_type": ""
    },
    "tags": []
   },
   "outputs": [],
   "source": [
    "%run code/init.ipynb\n",
    "\n",
    "# 初始化變量\n",
    "image_surf = pygame.image.load(\"../graphics/smile.png\") # Load the image at the path provided\n",
    "image_rect = image_surf.get_rect(midtop = (400,0))\n",
    "screen.blit(image_surf, image_rect)\n",
    "\n",
    "# 主循𤧖\n",
    "while running:\n",
    "    %run code/exit.ipynb # 處理遊戲退出\n",
    "            \n",
    "    # TODO: 在下方適當位置加上加上 screen.fill(...)\n",
    "\n",
    "    screen.fill(\"White\")\n",
    "    \n",
    "    image_rect.y += 5                       # Move the image downwards (+y) by n pixels\n",
    "    screen.blit(image_surf, image_rect)     # Render the image\n",
    "    pygame.display.update()                 # Update the Screen\n",
    "    clock.tick(60)                          # Refresh Rate (FPS)\n",
    "    \n",
    "    # TODO End\n",
    "\n",
    "pygame.quit() "
   ]
  },
  {
   "cell_type": "code",
   "execution_count": null,
   "id": "919c4fc2-594f-4dee-be89-b3ad1b8d30a1",
   "metadata": {
    "editable": true,
    "slideshow": {
     "slide_type": ""
    },
    "tags": []
   },
   "outputs": [],
   "source": [
    "%run code/init.ipynb\n",
    "\n",
    "# 初始化變量\n",
    "image_surf = pygame.image.load(\"../graphics/smile.png\") # Load the image at the path provided\n",
    "image_rect = image_surf.get_rect(midtop = (400,0))\n",
    "screen.blit(image_surf, image_rect)\n",
    "\n",
    "# TODO: 定義背景圖片，可參考 image_surf 及 image_rect\n",
    "bg_surf = pygame.image.load(\"../graphics/bg.png\") # Load the image at the path provided\n",
    "bg_rect = bg_surf.get_rect(topleft = (0,0))\n",
    "screen.blit(bg_surf, bg_rect)\n",
    "# TODO End\n",
    "\n",
    "# 主循𤧖\n",
    "while running:\n",
    "    %run code/exit.ipynb # 處理遊戲退出\n",
    "            \n",
    "    # TODO: 在下方適當位置加上加上 screen.blit(...)\n",
    "    screen.blit(bg_surf, bg_rect)\n",
    "    image_rect.y += 5                       # Move the image downwards (+y) by n pixels\n",
    "    screen.blit(image_surf, image_rect)     # Render the image\n",
    "    pygame.display.update()                 # Update the Screen\n",
    "    clock.tick(60)                          # Refresh Rate (FPS)\n",
    "    \n",
    "    # TODO End\n",
    "\n",
    "pygame.quit() "
   ]
  }
 ],
 "metadata": {
  "kernelspec": {
   "display_name": "Python 3 (ipykernel)",
   "language": "python",
   "name": "python3"
  },
  "language_info": {
   "codemirror_mode": {
    "name": "ipython",
    "version": 3
   },
   "file_extension": ".py",
   "mimetype": "text/x-python",
   "name": "python",
   "nbconvert_exporter": "python",
   "pygments_lexer": "ipython3",
   "version": "3.11.5"
  }
 },
 "nbformat": 4,
 "nbformat_minor": 5
}
