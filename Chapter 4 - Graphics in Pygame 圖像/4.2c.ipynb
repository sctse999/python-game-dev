{
 "cells": [
  {
   "cell_type": "markdown",
   "id": "baf34d45-4e9d-4a49-9f20-86d7789478f5",
   "metadata": {},
   "source": [
    "# 4.2c 移動圖像\n",
    "\n",
    "試改變圖片，即矩形 Rect (image_rect) 的位置，令圖片持續移動："
   ]
  },
  {
   "cell_type": "code",
   "execution_count": null,
   "id": "bcc2691d-b4b0-45b0-b425-d1707815e99b",
   "metadata": {},
   "outputs": [],
   "source": [
    "%run code/init.ipynb\n",
    "\n",
    "image_surf = pygame.image.load(\"../graphics/smile.png\")\n",
    "image_rect = image_surf.get_rect(center = (400,0))\n",
    "screen.blit(image_surf, image_rect)\n",
    "\n",
    "while running:\n",
    "    %run code/exit.ipynb\n",
    "            \n",
    "    ### Run constantly, until the user quits the window ###\n",
    "    \n",
    "    # TODO: 以 image_rect 移動圖片\n",
    "    \n",
    "    # TODO End\n",
    "    \n",
    "    screen.blit(image_surf, image_rect)     # Render the image\n",
    "    pygame.display.update()                 # Update the Screen\n",
    "    clock.tick(60)                          # Refresh Rate (FPS) \n",
    "    \n",
    "    #######################################################\n",
    "pygame.quit() "
   ]
  },
  {
   "cell_type": "markdown",
   "id": "68cb6fcd-2146-44d0-b444-d7baee2e96d6",
   "metadata": {},
   "source": [
    "圖片成功移動後，有什麼問題出現了？\n",
    "\n",
    "你能想到成因嗎？如何解決？"
   ]
  },
  {
   "cell_type": "markdown",
   "id": "29a81718-618b-44c1-8082-2e0d03a65d40",
   "metadata": {
    "jp-MarkdownHeadingCollapsed": true
   },
   "source": [
    "#### Answer 答案"
   ]
  },
  {
   "cell_type": "code",
   "execution_count": null,
   "id": "d61dd5dd-35d2-4bfc-a86a-e895f5fdac97",
   "metadata": {},
   "outputs": [],
   "source": [
    "%run code/init.ipynb\n",
    "\n",
    "image_surf = pygame.image.load(\"../graphics/smile.png\")\n",
    "image_rect = image_surf.get_rect(center = (400,0))\n",
    "screen.blit(image_surf, image_rect)\n",
    "\n",
    "while running:\n",
    "    %run code/exit.ipynb\n",
    "            \n",
    "    ### Run constantly, until the user quits the window ###\n",
    "    \n",
    "    # TODO: 以 image_rect 移動圖片\n",
    "    image_rect.y += 5\n",
    "    # TODO End\n",
    "    \n",
    "    screen.blit(image_surf, image_rect)     # Render the image\n",
    "    pygame.display.update()                 # Update the Screen\n",
    "    clock.tick(60)                          # Refresh Rate (FPS) \n",
    "    \n",
    "    #######################################################\n",
    "pygame.quit() "
   ]
  }
 ],
 "metadata": {
  "kernelspec": {
   "display_name": "Python 3 (ipykernel)",
   "language": "python",
   "name": "python3"
  },
  "language_info": {
   "codemirror_mode": {
    "name": "ipython",
    "version": 3
   },
   "file_extension": ".py",
   "mimetype": "text/x-python",
   "name": "python",
   "nbconvert_exporter": "python",
   "pygments_lexer": "ipython3",
   "version": "3.11.5"
  }
 },
 "nbformat": 4,
 "nbformat_minor": 5
}
