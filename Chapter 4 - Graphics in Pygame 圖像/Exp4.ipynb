{
 "cells": [
  {
   "cell_type": "markdown",
   "id": "25f6fc4a-f1a7-4d71-a284-4074ade0f42f",
   "metadata": {},
   "source": [
    "# Experiment 4 實驗 **(~30 min.)**"
   ]
  },
  {
   "cell_type": "code",
   "execution_count": null,
   "id": "7c74c640-67e6-4102-a097-8c30607c2c77",
   "metadata": {},
   "outputs": [],
   "source": [
    "%run code/init.ipynb\n",
    "\n",
    "# 初始化變量\n",
    "image_surf = pygame.image.load(\"../graphics/smile.png\") # Load the image at the path provided\n",
    "image_rect = image_surf.get_rect(midtop = (400,0))\n",
    "screen.blit(image_surf, image_rect)\n",
    "\n",
    "# 主循𤧖\n",
    "while running:\n",
    "    %run code/exit.ipynb # 處理遊戲退出\n",
    "            \n",
    "    # TODO: 在下方適當位置加上加上 screen.fill(...)\n",
    "\n",
    "    screen.fill(\"White\")\n",
    "    \n",
    "    image_rect.y += 5                       # Move the image downwards (+y) by n pixels\n",
    "    screen.blit(image_surf, image_rect)     # Render the image\n",
    "    pygame.display.update()                 # Update the Screen\n",
    "    clock.tick(60)                          # Refresh Rate (FPS)\n",
    "    \n",
    "    # TODO End\n",
    "\n",
    "pygame.quit() "
   ]
  },
  {
   "cell_type": "markdown",
   "id": "4414b897-fb5d-4091-90ae-907feda69932",
   "metadata": {
    "editable": true,
    "slideshow": {
     "slide_type": ""
    },
    "tags": []
   },
   "source": [
    "#### 1. Use your own image! 使用自己的圖片\n",
    "Change the path to that of your image!<BR>\n",
    "\n",
    "改變路徑來顯示你的圖片！\n",
    "#### 2. How FPS affects the result? FPS 會怎樣影響結果？\n",
    "Now try to change the FPS value by changing the input value of `clock.tick()` in the above code, what can you observe?<BR>\n",
    "\n",
    "現在試通過改變上方程式碼 `clock.tick()` 中的數字來改變FPS值，你觀察到什麼？\n",
    "\n",
    "#### 3. How to move the image back? 如何將圖片返會原位？ **[Challenging 挑戰性]**\n",
    "The image doesn't know how to come back on its own.<br>\n",
    "Try to add a conditional statement to the above code, to change `image_rect.y` back to 0 when `image_rect.y` > 600<BR>\n",
    "\n",
    "現在圖片不會自己回來，試在程式碼中新增一個條件運算，在 `image_rect.y` > 600 時，將 `image_rect.y` 重新設為為 0。\n",
    "\n",
    "#### 4. How to make the image bounce? 如何令圖片反彈？ **[Very Challenging 極具挑戰性]**\n",
    "In experiment 3 the image just teleports back. Can we make it bounce back up, and down instead? <br>\n",
    "\n",
    "在實驗3中，圖片是傳送回去的。我們可以令它來回反彈嗎？"
   ]
  },
  {
   "cell_type": "markdown",
   "id": "19dc6be6-425f-4817-9cf0-d71ee2f47d1e",
   "metadata": {
    "editable": true,
    "jp-MarkdownHeadingCollapsed": true,
    "slideshow": {
     "slide_type": ""
    },
    "tags": []
   },
   "source": [
    "#### Answer of Experiment 3 實驗3的答案"
   ]
  },
  {
   "cell_type": "code",
   "execution_count": null,
   "id": "506d581d-dff8-43fb-a1cf-00200f820c00",
   "metadata": {
    "editable": true,
    "slideshow": {
     "slide_type": ""
    },
    "tags": []
   },
   "outputs": [],
   "source": [
    "%run code/init.ipynb\n",
    "\n",
    "image_surf = pygame.image.load(\"../graphics/smile.png\")\n",
    "image_rect = image_surf.get_rect(midtop = (400,0))\n",
    "screen.blit(image_surf, image_rect)\n",
    "\n",
    "while running:\n",
    "    %run code/exit.ipynb # 處理遊戲退出\n",
    "            \n",
    "    ### Run constantly, until the user quits the window ###\n",
    "    \n",
    "    screen.fill((255, 255, 255))           \n",
    "    image_rect.y += 5                     \n",
    "    \n",
    "    if image_rect.y > 600:  # If the image arrives at the lower edge, change the y-position to 0 (Top)\n",
    "        image_rect.y = 0    # 當圖片到達下方邊緣，將y位置設為0 (頂部)\n",
    "        \n",
    "    screen.blit(image_surf, image_rect)  \n",
    "    pygame.display.update()               \n",
    "    clock.tick(60)                         \n",
    "    \n",
    "    #######################################################\n",
    "pygame.quit() "
   ]
  },
  {
   "cell_type": "markdown",
   "id": "43bf669a-ce31-4d41-8e3d-2bc0e677d1ec",
   "metadata": {
    "editable": true,
    "jp-MarkdownHeadingCollapsed": true,
    "slideshow": {
     "slide_type": ""
    },
    "tags": []
   },
   "source": [
    "#### Answer of Experiment 4 實驗4的答案"
   ]
  },
  {
   "cell_type": "code",
   "execution_count": null,
   "id": "b6798c3e-9f81-4fc7-8b6a-1837139a91b2",
   "metadata": {},
   "outputs": [],
   "source": [
    "%run code/init.ipynb\n",
    "\n",
    "image_surf = pygame.image.load(\"../graphics/smile.png\")\n",
    "image_rect = image_surf.get_rect(midtop = (400,0))\n",
    "screen.blit(image_surf, image_rect)\n",
    "\n",
    "vel = 5                          # A new variable to store the velocity of the image 新變量來儲存圖片的速率\n",
    "\n",
    "while running:\n",
    "    %run code/exit.ipynb # 處理遊戲退出\n",
    "    \n",
    "    ### Run constantly, until the user quits the window ###\n",
    "    \n",
    "    screen.fill((255, 255, 255))\n",
    "    image_rect.y += vel          # Move the image by the velocity 將圖片按速率移動\n",
    "    \n",
    "    if image_rect.bottom > 600:  # If the bottom of the image hits the lower edge, change the velocity to negative (upwards)\n",
    "        vel = -5                 # 當圖片下方碰到下方邊緣，將速率設為負數 (向上)\n",
    "        \n",
    "    elif image_rect.top < 0:     # If the top of the image hits the upper edge, change the velocity to positive (downwards)\n",
    "        vel = 5                  # 當圖片上方碰到上方邊緣，將速率設為正數 (向下)\n",
    "        \n",
    "    screen.blit(image_surf, image_rect)     \n",
    "    pygame.display.update()                 \n",
    "    clock.tick(60)                          \n",
    "    \n",
    "    #######################################################\n",
    "pygame.quit() "
   ]
  }
 ],
 "metadata": {
  "kernelspec": {
   "display_name": "Python 3 (ipykernel)",
   "language": "python",
   "name": "python3"
  },
  "language_info": {
   "codemirror_mode": {
    "name": "ipython",
    "version": 3
   },
   "file_extension": ".py",
   "mimetype": "text/x-python",
   "name": "python",
   "nbconvert_exporter": "python",
   "pygments_lexer": "ipython3",
   "version": "3.11.5"
  }
 },
 "nbformat": 4,
 "nbformat_minor": 5
}
