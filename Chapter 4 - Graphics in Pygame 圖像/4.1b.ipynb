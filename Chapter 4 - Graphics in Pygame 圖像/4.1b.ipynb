{
 "cells": [
  {
   "cell_type": "markdown",
   "id": "79f86496-c484-46ce-b792-18a8de675bf9",
   "metadata": {},
   "source": [
    "# 4.1b 定位點\n",
    "\n",
    "執行以下示範程式，認識定位點。\n",
    "\n",
    "### 說明\n",
    "按數字鍵1-9，以轉換定位點，定位點所對應數字如下：\n",
    "1.  topleft     左上方\n",
    "2.  midtop      中上方\n",
    "3.  topright    右上方\n",
    "4.  midleft     左中側\n",
    "5.  center      正中心\n",
    "6.  midright    右中側\n",
    "7.  bottomleft  左下方\n",
    "8.  midbottom   中下方\n",
    "9.  bottomright 右下方"
   ]
  },
  {
   "cell_type": "code",
   "execution_count": null,
   "id": "a25d04fc-8944-4392-ae1a-7bc3ac156c5f",
   "metadata": {},
   "outputs": [],
   "source": [
    "%run code/anchor.py"
   ]
  }
 ],
 "metadata": {
  "kernelspec": {
   "display_name": "Python 3 (ipykernel)",
   "language": "python",
   "name": "python3"
  },
  "language_info": {
   "codemirror_mode": {
    "name": "ipython",
    "version": 3
   },
   "file_extension": ".py",
   "mimetype": "text/x-python",
   "name": "python",
   "nbconvert_exporter": "python",
   "pygments_lexer": "ipython3",
   "version": "3.11.5"
  }
 },
 "nbformat": 4,
 "nbformat_minor": 5
}
