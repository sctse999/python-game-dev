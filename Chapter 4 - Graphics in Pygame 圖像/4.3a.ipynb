{
 "cells": [
  {
   "cell_type": "markdown",
   "id": "1bea457c-776f-4d36-a400-8162c8901cc7",
   "metadata": {},
   "source": [
    "# 4.3a 顯示文字\n",
    "\n",
    "根據筆記指示，顯示自定義的文字："
   ]
  },
  {
   "cell_type": "code",
   "execution_count": null,
   "id": "17f180a5-4e26-44b1-b6b8-b5f8122c493e",
   "metadata": {},
   "outputs": [],
   "source": [
    "%run code/init.ipynb\n",
    "\n",
    "# TODO: 定義字體\n",
    "\n",
    "font\n",
    "\n",
    "# TODO: 定義文字圖層及其矩形\n",
    "\n",
    "text_surf\n",
    "text_rect\n",
    "\n",
    "# TODO End\n",
    "\n",
    "# 主循𤧖\n",
    "while running:\n",
    "    %run code/exit.ipynb # 處理遊戲退出\n",
    "\n",
    "    # TODO: 在適當位置加上指令顯示文字圖層\n",
    "\n",
    "    screen.fill(\"White\")\n",
    "    pygame.display.update()                 # Update the Screen\n",
    "    clock.tick(60)                          # Refresh Rate (FPS)\n",
    "\n",
    "    # TODO End\n",
    "\n",
    "pygame.quit() "
   ]
  },
  {
   "cell_type": "markdown",
   "id": "661b1fa1-bf81-4d84-9ba0-fe0383c7c6b3",
   "metadata": {},
   "source": [
    "<hr>\n",
    "完成後，試嘗試自訂其他字體大小、顏色、及位置。"
   ]
  },
  {
   "cell_type": "markdown",
   "id": "5485d7d9-723e-4280-8001-51dd32c87851",
   "metadata": {
    "editable": true,
    "jp-MarkdownHeadingCollapsed": true,
    "slideshow": {
     "slide_type": ""
    },
    "tags": []
   },
   "source": [
    "#### Answer 答案"
   ]
  },
  {
   "cell_type": "code",
   "execution_count": null,
   "id": "ce9c2ad4-9a80-44e9-9f82-6869e6972bfd",
   "metadata": {},
   "outputs": [],
   "source": [
    "%run code/init.ipynb\n",
    "\n",
    "# TODO: 定義字體\n",
    "\n",
    "font = pygame.font.Font(None, 50)\n",
    "\n",
    "# TODO: 定義文字圖層及其矩形\n",
    "\n",
    "text_surf = font.render(\"Hello World!\", True, \"Black\")\n",
    "text_rect = text_surf.get_rect(center = (400, 300))\n",
    "\n",
    "# TODO End\n",
    "\n",
    "# 主循𤧖\n",
    "while running:\n",
    "    %run code/exit.ipynb # 處理遊戲退出\n",
    "\n",
    "    # TODO: 在適當位置加上指令顯示文字圖層\n",
    "\n",
    "    screen.fill(\"White\")\n",
    "\n",
    "    screen.blit(text_surf, text_rect)\n",
    "    \n",
    "    pygame.display.update()                 # Update the Screen\n",
    "    clock.tick(60)                          # Refresh Rate (FPS)\n",
    "\n",
    "    # TODO End\n",
    "\n",
    "pygame.quit() "
   ]
  }
 ],
 "metadata": {
  "kernelspec": {
   "display_name": "Python 3 (ipykernel)",
   "language": "python",
   "name": "python3"
  },
  "language_info": {
   "codemirror_mode": {
    "name": "ipython",
    "version": 3
   },
   "file_extension": ".py",
   "mimetype": "text/x-python",
   "name": "python",
   "nbconvert_exporter": "python",
   "pygments_lexer": "ipython3",
   "version": "3.11.5"
  }
 },
 "nbformat": 4,
 "nbformat_minor": 5
}
