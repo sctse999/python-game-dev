{
 "cells": [
  {
   "cell_type": "markdown",
   "id": "4e996f85-fa1f-447f-a3a6-75297f901a01",
   "metadata": {
    "editable": true,
    "slideshow": {
     "slide_type": ""
    },
    "tags": []
   },
   "source": [
    "# Chapter 4 - Graphics in Pygame 圖像"
   ]
  },
  {
   "cell_type": "markdown",
   "id": "babf1259-33d5-41b2-be10-0f1f16793fe9",
   "metadata": {
    "editable": true,
    "slideshow": {
     "slide_type": ""
    },
    "tags": []
   },
   "source": [
    "## 4.1 Coordinate system 座標系統"
   ]
  },
  {
   "cell_type": "markdown",
   "id": "b919f39e-6f5e-435e-919a-2b1671de752f",
   "metadata": {},
   "source": [
    "\n",
    "For a computer window, the coordinate system is a little bit different from the mathematical coordinate system that we commonly use.<br>\n",
    "\n",
    "電腦廂視窗所使用的座標系統與我們在數學中常見的座標系統有些不同。<BR>\n",
    "<BR>\n",
    "The y-axis is flipped vertically:\n",
    "\n",
    "當中，Y軸是垂直反轉的：<BR>\n",
    "![img1](img1.png)<br>\n",
    "The top-left corner is always `(0, 0)`.<BR>\n",
    "\n",
    "左上的座標永遠都是 `(0, 0)`。"
   ]
  },
  {
   "cell_type": "markdown",
   "id": "9b5e1a81-e497-4bb5-8f69-ace57dfd0916",
   "metadata": {
    "editable": true,
    "slideshow": {
     "slide_type": ""
    },
    "tags": []
   },
   "source": [
    "## 4.2 Displaying images 顯示圖片"
   ]
  },
  {
   "cell_type": "markdown",
   "id": "cff71aa8-48c6-4c0c-be42-06876c360d47",
   "metadata": {
    "editable": true,
    "slideshow": {
     "slide_type": ""
    },
    "tags": []
   },
   "source": [
    "To display an image, we first need to load the image.<br>\n",
    "We use the command `pygame.image.load()`, put the path inside the brackets, and assign it to a variable.<BR>\n",
    "\n",
    "要顯示圖片，我們要先載入一張圖。<BR>\n",
    "使用 `pygame.image.load()` 指令，並將圖片路徑放在括號中。再用這串指令定義為一個變量。<BR>\n",
    "```python\n",
    "image_variable = pygame.image.load(image_path)\n",
    "```\n",
    "Now, we want to display the image `smile.png` (located in another folder `graphics`).<br>\n",
    "Its path put into `image_path` (as a string, i.e. with `\"`)<br>\n",
    "\n",
    "現在，我們想顯示 `smile.png` 這張圖片 (位於另一個資料夾 `graphics`)。<BR>\n",
    "它的路徑會被放在 `image_path` 中 (以字串形式，即包括 `\"`)<BR>\n",
    "\n",
    "Note: `..` refers to the folder that is one level higher than the current folder.<br>\n",
    "\n",
    "注意： `..` 是表示本資料夾上一層的資料夾。<br><BR>\n",
    "To display it, we use the command `<surface>.blit()`, where `<surface>` is the name of the window surface.<BR>\n",
    "\n",
    "要顯示它，我們會使用 `<surface>.blit()` 指令，當中 `<surface>` 是視窗圖層的名稱。\n",
    "```python\n",
    "<surface>.blit(image_variable, (x_position, y_position))\n",
    "```\n",
    "For the position, a coordinate is used, with another pair of brackets.<br>\n",
    "It indicates the coordinate of the top-left corner of the image.<br>\n",
    "\n",
    "而在位置方面，座標會被使用，當中涉及另一組括號。它會用作表示圖片左上角的座標。"
   ]
  },
  {
   "cell_type": "code",
   "execution_count": 13,
   "id": "d290f136-8bf5-44ec-9aa3-7d7a50d4a971",
   "metadata": {
    "editable": true,
    "slideshow": {
     "slide_type": ""
    },
    "tags": []
   },
   "outputs": [],
   "source": [
    "import pygame\n",
    "pygame.init()\n",
    "\n",
    "screen = pygame.display.set_mode((800, 600))\n",
    "running = True\n",
    "\n",
    "\n",
    "### Display the image ###\n",
    "\n",
    "image_surf = pygame.image.load(\"../graphics/smile.png\") #########################################################\n",
    "screen.blit(image_surf, (0, 0))                         # <<< Change me to put the image at different positions #\n",
    "                                                        #     編輯以改變圖片位置                                  #\n",
    "                                                        #########################################################\n",
    "#########################\n",
    "\n",
    "while running:\n",
    "    for event in pygame.event.get():\n",
    "        if event.type == pygame.QUIT:\n",
    "            running = False\n",
    "    pygame.display.update()\n",
    "pygame.quit() "
   ]
  },
  {
   "cell_type": "markdown",
   "id": "858a84e3-ac47-4f38-b19d-6ee5671ddbae",
   "metadata": {
    "editable": true,
    "slideshow": {
     "slide_type": ""
    },
    "tags": []
   },
   "source": [
    "## 4.3 Animating the images 令圖片動起來"
   ]
  },
  {
   "cell_type": "markdown",
   "id": "296960d2-d258-43e8-95c0-3379e1f47573",
   "metadata": {},
   "source": [
    "\n",
    "We move the images bit by bit to create an illusion that it is moving smoothly.<br>\n",
    "But first, we need a container to contain the images - Rectangles.<br>\n",
    "\n",
    "我們會將圖片一點一點地移動，使人覺得它在順暢的移動。但首先，我們需要一個裝著圖片的容器 - 長方形。<BR>\n",
    "```python\n",
    "  <rect>   =  <surface>.get_rect(<anchor> = (<pos_x>, <pos_y>))\n",
    "image_rect = image_surf.get_rect( center  = (  400  ,   300  ))\n",
    "```\n",
    "The anchor can be different points of the image:<br>\n",
    "\n",
    "定位點可以設為圖片的其他位置。<BR>\n",
    "![img2](img2.png)<br>\n",
    "We can then render the image surface at the position of the rectangle directly using:<br>\n",
    "\n",
    "我們可以直接將圖片於長方形的位置進行渲染：\n",
    "```python\n",
    "screen.blit(image_surf, image_rect)\n",
    "```\n",
    "Now try to change the anchor and the position to move the image:<br>\n",
    "\n",
    "現在試編輯圖片的定位點及位置來將它放在不同地方："
   ]
  },
  {
   "cell_type": "code",
   "execution_count": 12,
   "id": "57d192b0-e05d-4179-b8da-a3a593b63c04",
   "metadata": {
    "editable": true,
    "slideshow": {
     "slide_type": ""
    },
    "tags": []
   },
   "outputs": [],
   "source": [
    "import pygame\n",
    "pygame.init()\n",
    "\n",
    "screen = pygame.display.set_mode((800, 600))\n",
    "running = True\n",
    "clock = pygame.time.Clock()\n",
    "\n",
    "\n",
    "### Display the image ###\n",
    "\n",
    "image_surf = pygame.image.load(\"../graphics/smile.png\")  #########################################################\n",
    "image_rect = image_surf.get_rect(center = (400, 300))    # <<< Change me to put the image at different positions #\n",
    "                                                         #     編輯以改變圖片位置                                  #\n",
    "screen.blit(image_surf, image_rect)                      #########################################################\n",
    "\n",
    "#########################\n",
    "\n",
    "\n",
    "while running:\n",
    "    for event in pygame.event.get():\n",
    "        if event.type == pygame.QUIT:\n",
    "            running = False  \n",
    "    pygame.display.update()\n",
    "    clock.tick(60)\n",
    "pygame.quit() "
   ]
  },
  {
   "cell_type": "markdown",
   "id": "5e128b0f-1fb6-4ebb-8e57-6bb814839484",
   "metadata": {
    "editable": true,
    "slideshow": {
     "slide_type": ""
    },
    "tags": []
   },
   "source": [
    "<hr>\n",
    "\n",
    "To move the image, we change the position of the rectangle container (`image_rect`) directly.<br>\n",
    "For example:<br>\n",
    "\n",
    "要移動圖片，我們可以直接改變其容器，即長方形 (`image_rect`) 的位置，例：\n",
    "```python\n",
    "image_rect.x = 10\n",
    "image_rect.y += 5\n",
    "image_rect.left = 0\n",
    "```\n",
    "Note: `image_rect.y += 5` is just the short form of `image_rect.y = image_rect.y + 5`.<BR>\n",
    "注意：`image_rect.y += 5` 只是 `image_rect.y = image_rect.y + 5` 的簡寫。\n"
   ]
  },
  {
   "cell_type": "code",
   "execution_count": 11,
   "id": "166ff03b-3f61-4a08-9531-7d9ad01cd4bb",
   "metadata": {
    "editable": true,
    "slideshow": {
     "slide_type": ""
    },
    "tags": []
   },
   "outputs": [],
   "source": [
    "import pygame\n",
    "pygame.init()\n",
    "\n",
    "screen = pygame.display.set_mode((800, 600))\n",
    "running = True\n",
    "clock = pygame.time.Clock()\n",
    "\n",
    "image_surf = pygame.image.load(\"../graphics/smile.png\")\n",
    "image_rect = image_surf.get_rect(midtop = (400,0))\n",
    "screen.blit(image_surf, image_rect)\n",
    "\n",
    "while running:\n",
    "    for event in pygame.event.get():\n",
    "        if event.type == pygame.QUIT:\n",
    "            running = False\n",
    "            \n",
    "    ### Run constantly, until the user quits the window ###\n",
    "    \n",
    "    image_rect.y += 1                       # <<< Change me!!! (Number of pixels moving per frame)\n",
    "    screen.blit(image_surf, image_rect)     # Render the image\n",
    "    pygame.display.update()                 # Update the Screen\n",
    "    clock.tick(60)                          # Refresh Rate (FPS) \n",
    "    \n",
    "    #######################################################\n",
    "pygame.quit() "
   ]
  },
  {
   "cell_type": "markdown",
   "id": "131641a5-6e90-4270-8215-59d46d8b6950",
   "metadata": {},
   "source": [
    "Hmmm, the image is leaving a track behind it, why?<br>\n",
    "\n",
    "欸，圖片留下了一條軌跡，為什麼？<BR>\n",
    "<br>\n",
    "When rendering an image using `screen.blit()`, the old images are not removed.<br>\n",
    "To stop producing a trail, we have to draw a background everytime before updating the screen to hide all old graphics.<br>\n",
    "\n",
    "當使用 `screen.blit()` 渲染圖片，舊有的圖片並不會被移除。要停止留下軌跡，就要在更新視窗時繪製一個背景，遮蓋所有舊有的圖像。<BR>\n",
    "<br>\n",
    "We can either use an image as the background (using the same method as above, but a larger image),<br>\n",
    "or fill the background with one colour, using the command below:<br>\n",
    "\n",
    "我們可以用一個圖片作為背景 (使用上述同樣的方法，但一張更大的圖片)，或使用以下指令將背景填色：\n",
    "```python\n",
    "screen.fill((255, 255, 255)) # Using RGB values 使用RGB值\n",
    "screen.fill(\"#FFFFFF\")       # Using hexadecimal colour code 使用十六進制顏色代碼\n",
    "screen.fill(\"White\")         # Using predefined colours 使用預設顏色\n",
    "```\n",
    "Now copy any one of these commands, and paste it to a suitable position,<br>\n",
    "such that the track is no longer visible.<BR>\n",
    "\n",
    "現在將上述任一指令複製，並在下方適當位置貼上，令軌跡消失。"
   ]
  },
  {
   "cell_type": "code",
   "execution_count": 10,
   "id": "fcb78dc7-8cdd-4b6a-abc1-bf01c2dfbb12",
   "metadata": {
    "editable": true,
    "slideshow": {
     "slide_type": ""
    },
    "tags": []
   },
   "outputs": [],
   "source": [
    "import pygame\n",
    "pygame.init()\n",
    "\n",
    "screen = pygame.display.set_mode((800, 600))\n",
    "running = True\n",
    "clock = pygame.time.Clock()\n",
    "\n",
    "image_surf = pygame.image.load(\"../graphics/smile.png\") # Load the image at the path provided\n",
    "image_rect = image_surf.get_rect(midtop = (400,0))\n",
    "screen.blit(image_surf, image_rect)\n",
    "\n",
    "while running:\n",
    "    for event in pygame.event.get():\n",
    "        if event.type == pygame.QUIT:\n",
    "            running = False\n",
    "            \n",
    "    ### Run constantly, until the user quits the window ###\n",
    "    \n",
    "    image_rect.y += 5                       # Move the image downwards (+y) by n pixels\n",
    "    screen.blit(image_surf, image_rect)     # Render the image\n",
    "    pygame.display.update()                 # Update the Screen\n",
    "    clock.tick(60)                          # Refresh Rate (FPS)\n",
    "    \n",
    "    #######################################################\n",
    "pygame.quit() "
   ]
  },
  {
   "cell_type": "markdown",
   "id": "e56d1117-7fb9-42ad-9729-f6f92aa42562",
   "metadata": {
    "jp-MarkdownHeadingCollapsed": true
   },
   "source": [
    "#### Answer 答案"
   ]
  },
  {
   "cell_type": "code",
   "execution_count": null,
   "id": "ff8db8c8-7ddd-4d47-b8eb-ef83a1628f1b",
   "metadata": {},
   "outputs": [],
   "source": [
    "import pygame\n",
    "pygame.init()\n",
    "\n",
    "screen = pygame.display.set_mode((800, 600))\n",
    "running = True\n",
    "clock = pygame.time.Clock()\n",
    "\n",
    "image_surf = pygame.image.load(\"../graphics/smile.png\") # Load the image at the path provided\n",
    "image_rect = image_surf.get_rect(midtop = (400,0))\n",
    "screen.blit(image_surf, image_rect)\n",
    "\n",
    "while running:\n",
    "    for event in pygame.event.get():\n",
    "        if event.type == pygame.QUIT:\n",
    "            running = False\n",
    "            \n",
    "    ### Run constantly, until the user quits the window ###\n",
    "    \n",
    "    screen.fill((255, 255, 255))            # Draw the background (White)\n",
    "    image_rect.y += 5                       # Move the image downwards (+y) by n pixels\n",
    "    screen.blit(image_surf, image_rect)     # Render the image\n",
    "    pygame.display.update()                 # Update the Screen\n",
    "    clock.tick(60)                          # Refresh Rate (FPS)\n",
    "    \n",
    "    #######################################################\n",
    "pygame.quit() "
   ]
  },
  {
   "cell_type": "markdown",
   "id": "f565cd5b-c457-476a-808d-42e892ccf071",
   "metadata": {
    "editable": true,
    "slideshow": {
     "slide_type": ""
    },
    "tags": []
   },
   "source": [
    "### Experiment 實驗 **(30 min.)**\n",
    "#### 1. Use your own image! 使用自己的圖片\n",
    "Change the path to that of your image!<BR>\n",
    "\n",
    "改變路徑來顯示你的圖片！\n",
    "#### 2. How FPS affects the result? FPS 會怎樣影響結果？\n",
    "Now try to change the FPS value by changing the input value of `clock.tick()` in the above code, what can you observe?<BR>\n",
    "\n",
    "現在試通過改變上方程式碼 `clock.tick()` 中的數字來改變FPS值，你觀察到什麼？\n",
    "\n",
    "#### 3. How to move the image back? 如何將圖片返會原位？ **[Challenging 挑戰性]**\n",
    "The image doesn't know how to come back on its own.<br>\n",
    "Try to add a conditional statement to the above code, to change `image_rect.y` back to 0 when `image_rect.y` > 600<BR>\n",
    "\n",
    "現在圖片不會自己回來，試在程式碼中新增一個條件運算，在 `image_rect.y` > 600 時，將 `image_rect.y` 重新設為為 0。\n",
    "\n",
    "#### 4. How to make the image bounce? 如何令圖片反彈？ **[Very Challenging 極具挑戰性]**\n",
    "In experiment 3 the image just teleports back. Can we make it bounce back up, and down instead? <br>\n",
    "\n",
    "在實驗3中，圖片是傳送回去的。我們可以令它來回反彈嗎？"
   ]
  },
  {
   "cell_type": "markdown",
   "id": "086200a4-0b62-4073-9a13-8d61017d2e3d",
   "metadata": {
    "editable": true,
    "jp-MarkdownHeadingCollapsed": true,
    "slideshow": {
     "slide_type": ""
    },
    "tags": []
   },
   "source": [
    "#### Answer of Experiment 3 實驗3的答案"
   ]
  },
  {
   "cell_type": "code",
   "execution_count": 13,
   "id": "f9962c58-229e-468d-89e5-b3c6fed90f75",
   "metadata": {
    "editable": true,
    "slideshow": {
     "slide_type": ""
    },
    "tags": []
   },
   "outputs": [],
   "source": [
    "import pygame\n",
    "pygame.init()\n",
    "\n",
    "screen = pygame.display.set_mode((800, 600))\n",
    "running = True\n",
    "clock = pygame.time.Clock()\n",
    "\n",
    "image_surf = pygame.image.load(\"../graphics/smile.png\")\n",
    "image_rect = image_surf.get_rect(midtop = (400,0))\n",
    "screen.blit(image_surf, image_rect)\n",
    "\n",
    "while running:\n",
    "    for event in pygame.event.get():\n",
    "        if event.type == pygame.QUIT:\n",
    "            running = False\n",
    "            \n",
    "    ### Run constantly, until the user quits the window ###\n",
    "    \n",
    "    screen.fill((255, 255, 255))           \n",
    "    image_rect.y += 5                     \n",
    "    \n",
    "    if image_rect.y > 600:                  \n",
    "        image_rect.y = 0\n",
    "    if image_rect.y > 600:  # If the image arrives at the lower edge, change the y-position to 0 (Top)\n",
    "        image_rect.y = 0    # 當圖片到達下方邊緣，將y位置設為0 (頂部)\n",
    "        \n",
    "    screen.blit(image_surf, image_rect)  \n",
    "    pygame.display.update()               \n",
    "    clock.tick(60)                         \n",
    "    \n",
    "    #######################################################\n",
    "pygame.quit() "
   ]
  },
  {
   "cell_type": "markdown",
   "id": "3d37da20-21e1-40e9-a6ba-aa9599342d48",
   "metadata": {
    "editable": true,
    "jp-MarkdownHeadingCollapsed": true,
    "slideshow": {
     "slide_type": ""
    },
    "tags": []
   },
   "source": [
    "#### Answer of Experiment 4 實驗4的答案"
   ]
  },
  {
   "cell_type": "code",
   "execution_count": 3,
   "id": "c3121435-9724-4eb2-8162-49d05ed8316a",
   "metadata": {
    "editable": true,
    "slideshow": {
     "slide_type": ""
    },
    "tags": []
   },
   "outputs": [],
   "source": [
    "import pygame\n",
    "pygame.init()\n",
    "\n",
    "screen = pygame.display.set_mode((800, 600))\n",
    "running = True\n",
    "clock = pygame.time.Clock()\n",
    "vel = 5                          # A new variable to store the velocity of the image 新變量來儲存圖片的速率\n",
    "\n",
    "image_surf = pygame.image.load(\"../graphics/smile.png\")\n",
    "image_rect = image_surf.get_rect(midtop = (400,0))\n",
    "screen.blit(image_surf, image_rect)\n",
    "\n",
    "while running:\n",
    "    for event in pygame.event.get():\n",
    "        if event.type == pygame.QUIT:\n",
    "            running = False\n",
    "            \n",
    "    ### Run constantly, until the user quits the window ###\n",
    "    \n",
    "    screen.fill((255, 255, 255))\n",
    "    image_rect.y += vel          # Move the image by the velocity 將圖片按速率移動\n",
    "    \n",
    "    if image_rect.bottom > 600:  # If the bottom of the image hits the lower edge, change the velocity to negative (upwards)\n",
    "        vel = -5                 # 當圖片下方碰到下方邊緣，將速率設為負數 (向上)\n",
    "        \n",
    "    elif image_rect.top < 0:     # If the top of the image hits the upper edge, change the velocity to positive (downwards)\n",
    "        vel = 5                  # 當圖片上方碰到上方邊緣，將速率設為正數 (向下)\n",
    "        \n",
    "    screen.blit(image_surf, image_rect)     \n",
    "    pygame.display.update()                 \n",
    "    clock.tick(60)                          \n",
    "    \n",
    "    #######################################################\n",
    "pygame.quit() "
   ]
  },
  {
   "cell_type": "markdown",
   "id": "98911dd2-42ab-43b4-85fc-1a8285e9c5cf",
   "metadata": {
    "editable": true,
    "slideshow": {
     "slide_type": ""
    },
    "tags": []
   },
   "source": [
    "## 4.4 Showing Text 顯示文字"
   ]
  },
  {
   "cell_type": "markdown",
   "id": "a794a6a4-14db-4d41-9279-0da0413ae96b",
   "metadata": {
    "editable": true,
    "raw_mimetype": "",
    "slideshow": {
     "slide_type": ""
    },
    "tags": []
   },
   "source": [
    "To show a text, you need to define a font first.<br>\n",
    "\n",
    "要顯示文字，你需要先定義一個字體。\n",
    "```python\n",
    "pygame.init()\n",
    "font_name = pygame.font.Font(font_style, font_size)\n",
    "```\n",
    "For the font style, you can either use a font style file (`.ttf`, `.otf`, etc.), or use `None` to use the default font.<br>\n",
    "For now, let's just use the default font.<BR>\n",
    "\n",
    "在字型方面，你可使用一個字型檔案 (`.ttf`、`.otf`、等)，或輸入 `None` 來使用預設字型。<BR>\n",
    "我們可先使用預設字型。"
   ]
  },
  {
   "cell_type": "code",
   "execution_count": null,
   "id": "73c7b0d7-7dd9-41b5-ba79-fb34fa98b118",
   "metadata": {
    "editable": true,
    "slideshow": {
     "slide_type": ""
    },
    "tags": []
   },
   "outputs": [],
   "source": [
    "normal_font = pygame.font.Font(None, 50)\n",
    "# Define normal_font as a default font with a size of 50"
   ]
  },
  {
   "cell_type": "markdown",
   "id": "98466016-0cc9-447c-9327-f791bc4a9a50",
   "metadata": {
    "editable": true,
    "slideshow": {
     "slide_type": ""
    },
    "tags": []
   },
   "source": [
    "Then, load a text into a surface variable, just like an image, using the command:<BR>\n",
    "\n",
    "然後，將文字載入到一個圖層的變量中，就像圖片一樣，使用指令：\n",
    "```python\n",
    "text_surf = font_name.render(text_content, anti-aliasing, colour)\n",
    "```\n",
    "`text_content` is a string that you want to display.<br>\n",
    "`anti-aliasing` is a boolean (`True`/`False`) to determine whether the text should have anti aliasing.<br>\n",
    "\n",
    "`text-content` 是一個文字串，代表你想顯示的文字。<BR>\n",
    "`anti-aliasing` 是一個布爾值 (`True`/`False`)，表示文字是否有抗鋸齒。<BR>\n",
    "![img3](img3.png)<br>\n",
    "`colour` uses either RGB, hex-code, or default colours to determine the colour of the text.<BR>\n",
    "\n",
    "`colour` 可使用 RGB、十六進制顏色代碼、或預設的顏色去設定文字的顏色。"
   ]
  },
  {
   "cell_type": "code",
   "execution_count": null,
   "id": "59aac450-53af-40e4-a9d8-744b842b1529",
   "metadata": {
    "editable": true,
    "slideshow": {
     "slide_type": ""
    },
    "tags": []
   },
   "outputs": [],
   "source": [
    "text_surf = normal_font.render(\"Hello\", True, \"Black\")\n",
    "# Creates a text surface of normal_font, displaying \"Hello\" with anti-aliasing in black"
   ]
  },
  {
   "cell_type": "markdown",
   "id": "9a0b2407-c2e1-4f40-b6b7-1bbd51548078",
   "metadata": {
    "editable": true,
    "slideshow": {
     "slide_type": ""
    },
    "tags": []
   },
   "source": [
    "We can also put it in a rectangle.<BR>\n",
    "\n",
    "我們也可以將它放進長方形中。"
   ]
  },
  {
   "cell_type": "code",
   "execution_count": null,
   "id": "667af573-e2a2-4c9a-8621-07b89b22aee2",
   "metadata": {
    "editable": true,
    "slideshow": {
     "slide_type": ""
    },
    "tags": []
   },
   "outputs": [],
   "source": [
    "text_rect = text_surf.get_rect()"
   ]
  },
  {
   "cell_type": "code",
   "execution_count": 12,
   "id": "d03fb80a-0db1-4234-be82-60cefd7542db",
   "metadata": {
    "editable": true,
    "slideshow": {
     "slide_type": ""
    },
    "tags": []
   },
   "outputs": [],
   "source": [
    "import pygame\n",
    "pygame.init()\n",
    "\n",
    "screen = pygame.display.set_mode((800, 600))\n",
    "running = True\n",
    "clock = pygame.time.Clock()\n",
    "\n",
    "######################## Load the text ########################\n",
    "\n",
    "normal_font = pygame.font.Font(None, 50)                   # <<< Change me! (Font Style, Font Size)\n",
    "text_surf = normal_font.render(\"Hello\", False, \"Black\")    # <<< Change me! (Content, Anti-Aliasing, Colour)\n",
    "text_rect = text_surf.get_rect(topleft = (50, 50))         # <<< Change me! (Anchor = Coordinate)\n",
    "\n",
    "###############################################################\n",
    "\n",
    "while running:\n",
    "    for event in pygame.event.get():\n",
    "        if event.type == pygame.QUIT:\n",
    "            running = False\n",
    "            \n",
    "    ### Run constantly, until the user quits the window ###\n",
    "    \n",
    "    screen.fill(\"White\")                    # Fill the background in white\n",
    "    screen.blit(text_surf, text_rect)       # Display the text\n",
    "    pygame.display.update()                 # Update the Screen\n",
    "    clock.tick(60)                          # Refresh Rate (FPS)\n",
    "    \n",
    "    #######################################################\n",
    "    \n",
    "pygame.quit() "
   ]
  },
  {
   "cell_type": "markdown",
   "id": "4508fcc8-06ad-4aa8-a349-7fdac56568da",
   "metadata": {
    "editable": true,
    "slideshow": {
     "slide_type": ""
    },
    "tags": []
   },
   "source": [
    "Try to change how the text is loaded to change its appearance! **(10 min.)**<BR>\n",
    "\n",
    "試編輯載入文字時的參數以改變文字的外觀！ **(10 分鐘)**"
   ]
  }
 ],
 "metadata": {
  "kernelspec": {
   "display_name": "Python 3 (ipykernel)",
   "language": "python",
   "name": "python3"
  },
  "language_info": {
   "codemirror_mode": {
    "name": "ipython",
    "version": 3
   },
   "file_extension": ".py",
   "mimetype": "text/x-python",
   "name": "python",
   "nbconvert_exporter": "python",
   "pygments_lexer": "ipython3",
   "version": "3.11.4"
  }
 },
 "nbformat": 4,
 "nbformat_minor": 5
}
