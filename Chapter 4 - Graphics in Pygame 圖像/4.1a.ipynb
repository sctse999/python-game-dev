{
 "cells": [
  {
   "cell_type": "markdown",
   "id": "22253bba-548b-4961-8dc1-2183ef158190",
   "metadata": {},
   "source": [
    "# 4.1a 鼠標位置\n",
    "\n",
    "執行以下示範程式，認識電腦的座標系統"
   ]
  },
  {
   "cell_type": "code",
   "execution_count": null,
   "id": "e11d7a3c-6f61-4282-984d-9136f612f6ae",
   "metadata": {},
   "outputs": [],
   "source": [
    "%run code/cursor_loc.py"
   ]
  },
  {
   "cell_type": "markdown",
   "id": "1816f649-6fac-4d6e-aaff-e64246dae52a",
   "metadata": {},
   "source": [
    "**[問題]** 有沒有留意座標的最大值是什麼？這又代表什麼？ "
   ]
  }
 ],
 "metadata": {
  "kernelspec": {
   "display_name": "Python 3 (ipykernel)",
   "language": "python",
   "name": "python3"
  },
  "language_info": {
   "codemirror_mode": {
    "name": "ipython",
    "version": 3
   },
   "file_extension": ".py",
   "mimetype": "text/x-python",
   "name": "python",
   "nbconvert_exporter": "python",
   "pygments_lexer": "ipython3",
   "version": "3.11.5"
  }
 },
 "nbformat": 4,
 "nbformat_minor": 5
}
