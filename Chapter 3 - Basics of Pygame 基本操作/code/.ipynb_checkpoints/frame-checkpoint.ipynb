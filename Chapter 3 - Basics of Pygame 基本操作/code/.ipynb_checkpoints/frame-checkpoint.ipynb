{
 "cells": [
  {
   "cell_type": "code",
   "execution_count": null,
   "id": "1d5a3888-966d-4707-bc00-2410f6e722f0",
   "metadata": {},
   "outputs": [],
   "source": [
    "import pygame\n",
    "try:\n",
    "    frame += 1\n",
    "except NameError as e:\n",
    "    frame = 0\n",
    "normal_font = pygame.font.Font(None, 50)\n",
    "text_surf = normal_font.render(str(frame), False, \"White\")\n",
    "text_rect = text_surf.get_rect(center = (400, 300))\n",
    "screen.fill(\"Black\")\n",
    "screen.blit(text_surf, text_rect)"
   ]
  }
 ],
 "metadata": {
  "kernelspec": {
   "display_name": "Python 3 (ipykernel)",
   "language": "python",
   "name": "python3"
  },
  "language_info": {
   "codemirror_mode": {
    "name": "ipython",
    "version": 3
   },
   "file_extension": ".py",
   "mimetype": "text/x-python",
   "name": "python",
   "nbconvert_exporter": "python",
   "pygments_lexer": "ipython3",
   "version": "3.11.5"
  }
 },
 "nbformat": 4,
 "nbformat_minor": 5
}
