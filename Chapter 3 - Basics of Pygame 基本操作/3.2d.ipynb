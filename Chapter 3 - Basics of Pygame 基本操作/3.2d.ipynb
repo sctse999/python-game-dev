{
 "cells": [
  {
   "cell_type": "markdown",
   "id": "d48f210f-c864-48d7-bace-3f817d9d2716",
   "metadata": {},
   "source": [
    "# 3.2d 控制 FPS\n",
    "\n",
    "**[練習]** 試根據筆記提供的指令，控制遊戲的 FPS (先設為 60)，並留意數字更新的速度變化："
   ]
  },
  {
   "cell_type": "code",
   "execution_count": null,
   "id": "23fdf7a6-ae42-4649-a3ac-792217dd93c2",
   "metadata": {},
   "outputs": [],
   "source": [
    "import pygame\n",
    "pygame.init()\n",
    "\n",
    "screen = pygame.display.set_mode((800, 600))\n",
    "running = True\n",
    "frame = 0\n",
    "\n",
    "clock = pygame.time.Clock()  # 加設計時器\n",
    "while running:\n",
    "    %run code/exit.py\n",
    "    %run code/frame.ipynb\n",
    "    pygame.display.update()\n",
    "\n",
    "    # TODO: 增設延遲\n",
    "    \n",
    "    \n",
    "    \n",
    "    # TODO End\n",
    "\n",
    "pygame.quit()"
   ]
  },
  {
   "cell_type": "markdown",
   "id": "4e01d694-0468-4b36-9e2e-344fa2fc5d03",
   "metadata": {},
   "source": [
    "**[實驗]** 成功後，試試不同 FPS 值的效果吧！"
   ]
  }
 ],
 "metadata": {
  "kernelspec": {
   "display_name": "Python 3 (ipykernel)",
   "language": "python",
   "name": "python3"
  },
  "language_info": {
   "codemirror_mode": {
    "name": "ipython",
    "version": 3
   },
   "file_extension": ".py",
   "mimetype": "text/x-python",
   "name": "python",
   "nbconvert_exporter": "python",
   "pygments_lexer": "ipython3",
   "version": "3.11.5"
  }
 },
 "nbformat": 4,
 "nbformat_minor": 5
}
