{
 "cells": [
  {
   "cell_type": "markdown",
   "id": "b9e7539f-a5dd-4d92-a823-91ba674f2c06",
   "metadata": {},
   "source": [
    "# 3.2a 匯入 Pygame\n",
    "\n",
    "讓我們做個示範，不用 import pygame 直接執行 Pygame 指令會發生什麼？"
   ]
  },
  {
   "cell_type": "code",
   "execution_count": null,
   "id": "2e159c8d-ef7f-4ea5-a046-e3c4a843b8a6",
   "metadata": {},
   "outputs": [],
   "source": [
    "pygame.init()"
   ]
  },
  {
   "cell_type": "markdown",
   "id": "441b012d-14dc-4dc3-b515-d58b4e685ae6",
   "metadata": {},
   "source": [
    "要如何修復錯誤呢？\n",
    "\n",
    "**[練習]** 試依照學生筆記的指示地導入 Pygame，然後再試一次！"
   ]
  },
  {
   "cell_type": "code",
   "execution_count": null,
   "id": "dbee822b-e1ac-4602-a8ae-dd1b6736e2cc",
   "metadata": {},
   "outputs": [],
   "source": [
    "# TODO: 導入 Pygame\n",
    "\n",
    "pygame.init()"
   ]
  }
 ],
 "metadata": {
  "kernelspec": {
   "display_name": "Python 3 (ipykernel)",
   "language": "python",
   "name": "python3"
  },
  "language_info": {
   "codemirror_mode": {
    "name": "ipython",
    "version": 3
   },
   "file_extension": ".py",
   "mimetype": "text/x-python",
   "name": "python",
   "nbconvert_exporter": "python",
   "pygments_lexer": "ipython3",
   "version": "3.11.5"
  }
 },
 "nbformat": 4,
 "nbformat_minor": 5
}
