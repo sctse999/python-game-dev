{
 "cells": [
  {
   "cell_type": "markdown",
   "id": "9ce8e8f0-b630-4db0-b871-43bad0290aae",
   "metadata": {},
   "source": [
    "# 3.1b Pygame 食鬼試玩\n",
    "\n",
    "\n",
    "執行以下程式格以試玩 Pygame 食鬼\n",
    "\n",
    "*Credit: https://github.com/AnandSrikumar/PyPacman*"
   ]
  },
  {
   "cell_type": "code",
   "execution_count": null,
   "id": "1804df85-5764-46dc-b081-58cd00189fb5",
   "metadata": {},
   "outputs": [],
   "source": [
    "%cd PyPacman-main\n",
    "%run main.py"
   ]
  }
 ],
 "metadata": {
  "kernelspec": {
   "display_name": "Python 3 (ipykernel)",
   "language": "python",
   "name": "python3"
  },
  "language_info": {
   "codemirror_mode": {
    "name": "ipython",
    "version": 3
   },
   "file_extension": ".py",
   "mimetype": "text/x-python",
   "name": "python",
   "nbconvert_exporter": "python",
   "pygments_lexer": "ipython3",
   "version": "3.11.5"
  }
 },
 "nbformat": 4,
 "nbformat_minor": 5
}
