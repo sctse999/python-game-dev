{
 "cells": [
  {
   "cell_type": "markdown",
   "id": "abc220a1-8d22-4d64-8e01-4687361a70f6",
   "metadata": {},
   "source": [
    "# 3.2c 更新視窗\n",
    "\n",
    "**[練習]** 試以筆記提及的指令使視窗成功更新，成功時應看到數字不斷增加\n"
   ]
  },
  {
   "cell_type": "code",
   "execution_count": 3,
   "id": "9cb8c6a1-31fc-4afd-bfcb-99611fae5f8c",
   "metadata": {},
   "outputs": [],
   "source": [
    "import pygame\n",
    "pygame.init()\n",
    "\n",
    "screen = pygame.display.set_mode((800, 600))\n",
    "running = True\n",
    "\n",
    "while running:\n",
    "    %run code/exit.py\n",
    "    %run code/frame.ipynb    # 顯示幀數\n",
    "    \n",
    "    # TODO: 加上指令以更新畫面\n",
    "    \n",
    "    \n",
    "    \n",
    "    # TODO End\n",
    "\n",
    "pygame.quit()"
   ]
  }
 ],
 "metadata": {
  "kernelspec": {
   "display_name": "Python 3 (ipykernel)",
   "language": "python",
   "name": "python3"
  },
  "language_info": {
   "codemirror_mode": {
    "name": "ipython",
    "version": 3
   },
   "file_extension": ".py",
   "mimetype": "text/x-python",
   "name": "python",
   "nbconvert_exporter": "python",
   "pygments_lexer": "ipython3",
   "version": "3.11.5"
  }
 },
 "nbformat": 4,
 "nbformat_minor": 5
}
