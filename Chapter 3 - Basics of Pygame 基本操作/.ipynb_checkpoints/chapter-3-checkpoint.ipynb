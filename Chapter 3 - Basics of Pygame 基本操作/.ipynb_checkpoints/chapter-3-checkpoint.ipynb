{
 "cells": [
  {
   "cell_type": "markdown",
   "id": "f75bd8a9-7e81-42a9-81e0-c3d4c57be40a",
   "metadata": {
    "editable": true,
    "slideshow": {
     "slide_type": ""
    },
    "tags": []
   },
   "source": [
    "# Chapter 3 - Basics of Pygame 基本操作"
   ]
  },
  {
   "cell_type": "markdown",
   "id": "80143e03-7220-4fbd-bcf2-b5eb17a4ca5c",
   "metadata": {},
   "source": [
    "## 3.1 Before we start 在開始前"
   ]
  },
  {
   "cell_type": "markdown",
   "id": "dca258ac-66e3-4c96-abc2-5bbc9cc662fb",
   "metadata": {
    "editable": true,
    "slideshow": {
     "slide_type": ""
    },
    "tags": []
   },
   "source": [
    "\n",
    "Pygame is a Python library mostly for creating 2D games.<br>\n",
    "\n",
    "Pygame 是個主要用來製作 2D 遊戲的 Python 程式集。<br>\n",
    "<br>\n",
    "Before using its functions, Pygame has to be installed first.<br>\n",
    "It can be installed using the command below, try to run it:<br>\n",
    "\n",
    "在使用當中的函數前，我們要先通過以下指令安裝 Pygame，試執行它："
   ]
  },
  {
   "cell_type": "code",
   "execution_count": null,
   "id": "00692a4a-4476-4a81-bd2f-05376a411ad9",
   "metadata": {
    "editable": true,
    "slideshow": {
     "slide_type": ""
    },
    "tags": []
   },
   "outputs": [],
   "source": [
    "pip install pygame"
   ]
  },
  {
   "cell_type": "markdown",
   "id": "c1cf393b-015e-4ed3-ace0-493946d79e3c",
   "metadata": {
    "editable": true,
    "slideshow": {
     "slide_type": ""
    },
    "tags": []
   },
   "source": [
    "Wait for the installation to complete after that.<br>\n",
    "The message: `Successfully installed pygame-2.4.0` should be displayed.<br>\n",
    "\n",
    "然後等待安裝完成。你應看到 `Successfully installed pygame-2.4.0` 的訊息。<br>\n",
    "<br>\n",
    "If you see the statement: `Requirement already satisfied`,<br>\n",
    "it means that Pygame has already been installed previously, and you are good to go.<br>\n",
    "\n",
    "若你看到 `Requirement already satisfied`，則代表 Pygame 已預先被安裝了，你毋須進行其他動作。\n",
    "<hr>\n",
    "\n",
    "To use Pygame functions in a Python program,<br>\n",
    "we have an extra step to do - Importing Pygame.<br>\n",
    "\n",
    "在 Python 程式中使用 Pygame 中的函數前，我們有多一步要做：匯入 Pygame。<br>\n",
    "<br>\n",
    "Below is an example of what would happen if you forgot this step:<br>\n",
    "\n",
    "以下是當你忘記匯入時會發生的錯誤："
   ]
  },
  {
   "cell_type": "code",
   "execution_count": 2,
   "id": "5ff24ba1-585a-4121-a4ef-d76dda44d002",
   "metadata": {
    "slideshow": {
     "slide_type": ""
    },
    "tags": []
   },
   "outputs": [
    {
     "ename": "NameError",
     "evalue": "name 'pygame' is not defined",
     "output_type": "error",
     "traceback": [
      "\u001b[1;31m---------------------------------------------------------------------------\u001b[0m",
      "\u001b[1;31mNameError\u001b[0m                                 Traceback (most recent call last)",
      "Cell \u001b[1;32mIn[2], line 1\u001b[0m\n\u001b[1;32m----> 1\u001b[0m \u001b[43mpygame\u001b[49m\u001b[38;5;241m.\u001b[39minit()\n",
      "\u001b[1;31mNameError\u001b[0m: name 'pygame' is not defined"
     ]
    }
   ],
   "source": [
    "pygame.init()"
   ]
  },
  {
   "cell_type": "markdown",
   "id": "a27c6c4e-d8f3-4cbb-a0c8-da333c36a9d0",
   "metadata": {
    "editable": true,
    "slideshow": {
     "slide_type": ""
    },
    "tags": []
   },
   "source": [
    "<hr>\n",
    "To import Pygame, simply add this line at the very beginning of the program.<br>\n",
    "\n",
    "要匯入 Pygame ，只需將以下一行加在程式的開端。\n",
    "\n",
    "```python\n",
    "import pygame\n",
    "```\n",
    "\n",
    "**Now copy the above line to a suitable place in the cell below.<br>**\n",
    "You should see the message below upon importing Pygame successfully for the first time:<br>\n",
    "**If not, inform a tutor as soon as possible.** <br>\n",
    "\n",
    "**現在將以上一行指令複製，並在以下儲存格適當的位置貼上。** <br>\n",
    "第一次成功匯入 Pygame 時，你應看到以下訊息，**否則，請盡快告知導師**：\n",
    "\n",
    "```\n",
    "pygame 2.4.0 (SDL 2.26.4, Python 3.11.3)\n",
    "Hello from the pygame community. https://www.pygame.org/contribute.html\n",
    "```"
   ]
  },
  {
   "cell_type": "code",
   "execution_count": null,
   "id": "af364eaf-87b6-42bd-9473-0c97dea24c68",
   "metadata": {
    "editable": true,
    "slideshow": {
     "slide_type": ""
    },
    "tags": []
   },
   "outputs": [],
   "source": [
    "# Paste the line in this cell 在此儲存格中貼上\n",
    "\n",
    "pygame.init()\n"
   ]
  },
  {
   "cell_type": "markdown",
   "id": "1cd85c6d-7bf1-46d4-a29e-c2fa83d219e5",
   "metadata": {
    "editable": true,
    "slideshow": {
     "slide_type": ""
    },
    "tags": []
   },
   "source": [
    "The command `pygame.init()` is also required to initiate Pygame.<br>\n",
    "It is recommended to start every Pygame program with these 2 lines of code. <br>\n",
    "\n",
    "你亦需使用 `pygame.init()` 指令為 Pygame 進行初始化，我們建議你將這兩行指令都寫在每個 Pygame 程式的開端。<br>\n",
    "<br>"
   ]
  },
  {
   "cell_type": "markdown",
   "id": "8dfcb9be-fd58-4371-ba25-317540dd544d",
   "metadata": {
    "editable": true,
    "slideshow": {
     "slide_type": ""
    },
    "tags": []
   },
   "source": [
    "## 3.2 Create a window 創建視窗"
   ]
  },
  {
   "cell_type": "markdown",
   "id": "38bfe6cc-54c9-4c6a-b1bb-f3eac0307b61",
   "metadata": {
    "editable": true,
    "slideshow": {
     "slide_type": ""
    },
    "tags": []
   },
   "source": [
    "To create a window, use the function `pygame.display.set_mode()`,<br>\n",
    "it creates a window surface for us to put the game elements inside.<br>\n",
    "\n",
    "要創建一個視窗，需使用 `pygame.display.set_mode()` 函數，它會創建一個可放置其餘遊戲組件的圖屠。<br>\n",
    "<br>\n",
    "The surface is assigned to a variable.<br>\n",
    "The entire line is shown below:<br>\n",
    "\n",
    "該圖層會被儲存在一個變量之中，整行指令如下：\n",
    "\n",
    "```python\n",
    "screen = pygame.display.set_mode((800, 600))\n",
    "```\n",
    "Now give it a try:<br>\n",
    "試試看："
   ]
  },
  {
   "cell_type": "code",
   "execution_count": 4,
   "id": "305012da-e4d7-4f88-8971-3bff2c493603",
   "metadata": {
    "editable": true,
    "slideshow": {
     "slide_type": ""
    },
    "tags": []
   },
   "outputs": [],
   "source": [
    "screen = pygame.display.set_mode((800, 600))"
   ]
  },
  {
   "cell_type": "markdown",
   "id": "335a4bff-2b79-4f37-b546-5bb4d1ef3b4c",
   "metadata": {
    "editable": true,
    "slideshow": {
     "slide_type": ""
    },
    "tags": []
   },
   "source": [
    "The window created cannot be closed normally.<br>\n",
    "It is really buggy, and we have to restart the kernel (Press `↻` above) to close it<br>\n",
    "\n",
    "這樣創建出來的視窗不能正常地關掉，而且十分不穩定，我們需要透過重啟內核 (按上方的 `↻`)  來關掉它。\n",
    "\n",
    "Remember to initiate Pygame again after restarting:<br>\n",
    "\n",
    "記得在重啟內核後初始化 Pygame："
   ]
  },
  {
   "cell_type": "code",
   "execution_count": null,
   "id": "7a73a130-5cfd-46b9-b0fa-c4d2987cf3da",
   "metadata": {},
   "outputs": [],
   "source": [
    "import pygame\n",
    "pygame.init()"
   ]
  },
  {
   "cell_type": "markdown",
   "id": "da285424-a2c0-407b-8a33-e0d191b3e4db",
   "metadata": {},
   "source": [
    "To fix it, it is a little bit complicated. <br>\n",
    "It is fine if you don't understand the code below.<br>\n",
    "Here is how we create a functional window:"
   ]
  },
  {
   "cell_type": "code",
   "execution_count": 5,
   "id": "5e97cb05-abc3-498b-9c5a-e0254a56035a",
   "metadata": {
    "editable": true,
    "slideshow": {
     "slide_type": ""
    },
    "tags": []
   },
   "outputs": [],
   "source": [
    "screen = pygame.display.set_mode((800, 600))\n",
    "running = True                        # Initiate [running] 初始化 [running]\n",
    "\n",
    "while running:                        # Repeat while [running] is True 當 [running] 為 True 時重複\n",
    "    for event in pygame.event.get():\n",
    "        if event.type == pygame.QUIT: # Stop the loop and close the window when \"X\" is pressed \n",
    "            running = False           # 當 \"X\" 鍵被按下時關掉視窗\n",
    "pygame.quit() "
   ]
  },
  {
   "cell_type": "code",
   "execution_count": null,
   "id": "539b738d-01fc-4531-9c60-bb2925f8a6d2",
   "metadata": {
    "editable": true,
    "slideshow": {
     "slide_type": ""
    },
    "tags": []
   },
   "outputs": [],
   "source": [
    "width = int(input(\"Enter the width : \"))\n",
    "height = int(input(\"Enter the height: \"))\n",
    "\n",
    "screen = pygame.display.set_mode((width, height))\n",
    "print(\"Window created!\")\n",
    "running = True\n",
    "\n",
    "while running:\n",
    "    for event in pygame.event.get():\n",
    "        if event.type == pygame.QUIT:\n",
    "            running = False\n",
    "pygame.quit()"
   ]
  },
  {
   "cell_type": "markdown",
   "id": "6e18ac27-b5c1-4f07-aecf-6d667389747a",
   "metadata": {
    "editable": true,
    "slideshow": {
     "slide_type": ""
    },
    "tags": []
   },
   "source": [
    "## 3.3 Updating the window 更新視窗"
   ]
  },
  {
   "cell_type": "markdown",
   "id": "8045e1af-7b9f-4e28-a6e7-836fa41c2274",
   "metadata": {},
   "source": [
    "\n",
    "To refresh the screen and render everything on it, this command is used:<br>\n",
    "\n",
    "要重新整理視窗並渲染所有物件，需要使用此指令：\n",
    "```python\n",
    "pygame.display.update()\n",
    "```\n",
    "We put it in the `while running:` loop to make sure that the window is always updated.<br>\n",
    "\n",
    "我們會將它放進 `while running:` 循環之中，以確保視窗永遠會被更新。"
   ]
  },
  {
   "cell_type": "markdown",
   "id": "5c187e48-2048-4e94-811c-9c48cee36604",
   "metadata": {},
   "source": [
    "<hr>\n",
    "\n",
    "Apart from that, we use the following commands to control the refresh rate of the window:<br>\n",
    "\n",
    "除此之外，我們可以使用以下指令控制視窗的更新率：\n",
    "```python\n",
    "clock = pygame.time.Clock() # Creates the clock for timekeeping, placed anywhere before the command below \n",
    "                            # 建立用作計時的時鐘，可放在下列指令之前的任一位置\n",
    "\n",
    "clock.tick(FPS)             # Creates a delay of 1/FPS seconds, placed in the while loop中\n",
    "                            # 創建一個 1/FPS 秒的延遲，放置於 While loop 之中\n",
    "```\n",
    "The value `FPS` refers to **F**rames **P**er **S**econd, i.e. how many times the window is updated in a second.<br>\n",
    "The effect of changing the FPS value will be discussed later.<br>\n",
    "\n",
    "`FPS` 值代表\"幀數/秒\"，即視窗每秒會更新多少次。改變此值的效果會在其後探討。"
   ]
  },
  {
   "cell_type": "code",
   "execution_count": null,
   "id": "55bff3b8-0f16-4fd3-b51e-64aad220a544",
   "metadata": {
    "editable": true,
    "slideshow": {
     "slide_type": ""
    },
    "tags": []
   },
   "outputs": [],
   "source": [
    "screen = pygame.display.set_mode((800, 600))\n",
    "running = True\n",
    "clock = pygame.time.Clock()\n",
    "\n",
    "while running:\n",
    "    for event in pygame.event.get():\n",
    "        if event.type == pygame.QUIT:\n",
    "            running = False\n",
    "    pygame.display.update()\n",
    "    clock.tick(60)\n",
    "    \n",
    "pygame.quit() "
   ]
  },
  {
   "cell_type": "markdown",
   "id": "a993fb7e-b9ae-4569-904c-9a7775af02ad",
   "metadata": {},
   "source": [
    "<hr>\n",
    "\n",
    "However, without any graphical elements, we won't be able to notice any changes of the window despite updating it.<br>\n",
    "Therefore, let's move on to creating graphical elements. (in the next chapter)<br>\n",
    "\n",
    "可是，沒有任何圖像物件的話，即使更新視窗也不會發生變化，因此，讓我們開始建立圖像物件。(下一單元)"
   ]
  }
 ],
 "metadata": {
  "kernelspec": {
   "display_name": "Python 3 (ipykernel)",
   "language": "python",
   "name": "python3"
  },
  "language_info": {
   "codemirror_mode": {
    "name": "ipython",
    "version": 3
   },
   "file_extension": ".py",
   "mimetype": "text/x-python",
   "name": "python",
   "nbconvert_exporter": "python",
   "pygments_lexer": "ipython3",
   "version": "3.11.5"
  }
 },
 "nbformat": 4,
 "nbformat_minor": 5
}
