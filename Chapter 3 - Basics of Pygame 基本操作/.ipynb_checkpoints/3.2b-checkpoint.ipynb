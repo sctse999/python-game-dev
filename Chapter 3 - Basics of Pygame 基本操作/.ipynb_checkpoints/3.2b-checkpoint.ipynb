{
 "cells": [
  {
   "cell_type": "markdown",
   "id": "bd85664b-ebff-4063-b55b-e63a2168f416",
   "metadata": {},
   "source": [
    "# 3.2b 創建視窗\n",
    "\n",
    "記得要先導入及初始化 Pygame："
   ]
  },
  {
   "cell_type": "code",
   "execution_count": null,
   "id": "a5ace246-699e-41c7-9ac8-81f094a5d11b",
   "metadata": {},
   "outputs": [],
   "source": [
    "import pygame\n",
    "pygame.init()"
   ]
  },
  {
   "cell_type": "markdown",
   "id": "72a068c6-1016-4783-b81f-25eb9cb5bf31",
   "metadata": {},
   "source": [
    "<hr>\n",
    "嘗試創建不穩定的視窗："
   ]
  },
  {
   "cell_type": "code",
   "execution_count": null,
   "id": "40db1c96-b980-4eb2-b446-a6d44e7c660e",
   "metadata": {},
   "outputs": [],
   "source": [
    "screen = pygame.display.set_mode((800, 600))"
   ]
  },
  {
   "cell_type": "markdown",
   "id": "72f5c108-00e0-417b-83de-9abac950323c",
   "metadata": {},
   "source": [
    "<hr>\n",
    "重啟內核後，記得要重新導入及初始化 Pygame！"
   ]
  },
  {
   "cell_type": "code",
   "execution_count": null,
   "id": "0b9be6a9-38c3-43e8-ba88-4ef2245dc426",
   "metadata": {},
   "outputs": [],
   "source": [
    "import pygame\n",
    "pygame.init()"
   ]
  },
  {
   "cell_type": "markdown",
   "id": "7f8c3d88-ebd4-4573-895d-700fb1d8e7f8",
   "metadata": {},
   "source": [
    "<hr>\n",
    "我們會處理視窗不穩定的問題，如想知道原理，可閱讀旁邊的註解"
   ]
  },
  {
   "cell_type": "code",
   "execution_count": 18,
   "id": "dea12c49-58a4-46f4-89af-04891015c443",
   "metadata": {},
   "outputs": [],
   "source": [
    "screen = pygame.display.set_mode((800, 600))\n",
    "running = True                        # Initiate [running] 初始化 [running]\n",
    "\n",
    "while running:                        # Repeat while [running] is True 當 [running] 為 True 時重複\n",
    "    for event in pygame.event.get():\n",
    "        if event.type == pygame.QUIT: # Stop the loop and close the window when \"X\" is pressed \n",
    "            running = False           # 當 \"X\" 鍵被按下時關掉視窗\n",
    "            \n",
    "pygame.quit() "
   ]
  },
  {
   "cell_type": "markdown",
   "id": "920ae859-0d5c-4f7a-9826-c9f30cd64513",
   "metadata": {},
   "source": [
    "<hr>\n",
    "試試不同視窗大小吧！"
   ]
  },
  {
   "cell_type": "code",
   "execution_count": null,
   "id": "51c7fbea-95ab-414e-98d6-a9ab7429432c",
   "metadata": {},
   "outputs": [],
   "source": [
    "width = int(input(\"Enter the width : \"))\n",
    "height = int(input(\"Enter the height: \"))\n",
    "\n",
    "screen = pygame.display.set_mode((width, height)) # 亦可直接將括數內的變量修改成數字\n",
    "print(\"Window created!\")\n",
    "running = True\n",
    "\n",
    "while running:\n",
    "    %run code/exit.py  # 避免沒有回應的問題\n",
    "\n",
    "pygame.quit()"
   ]
  }
 ],
 "metadata": {
  "kernelspec": {
   "display_name": "Python 3 (ipykernel)",
   "language": "python",
   "name": "python3"
  },
  "language_info": {
   "codemirror_mode": {
    "name": "ipython",
    "version": 3
   },
   "file_extension": ".py",
   "mimetype": "text/x-python",
   "name": "python",
   "nbconvert_exporter": "python",
   "pygments_lexer": "ipython3",
   "version": "3.11.5"
  }
 },
 "nbformat": 4,
 "nbformat_minor": 5
}
