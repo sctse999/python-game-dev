{
 "cells": [
  {
   "cell_type": "markdown",
   "id": "87ede10c-9c32-49a3-9819-f4160a4c77d7",
   "metadata": {},
   "source": [
    "# 3.1a Pygame 安裝\n",
    "\n",
    "\n",
    "在使用 Pygame 的函數前，我們要先通過以下指令安裝 Pygame，試執行它：<br>\n",
    "\n",
    "\n",
    "然後等待安裝完成。你應看到 `Successfully installed pygame-2.4.0` 的訊息。<br>\n",
    "\n",
    "若你看到 `Requirement already satisfied`，則代表 Pygame 已預先被安裝了，你毋須進行其他動作。\n",
    "<hr>"
   ]
  },
  {
   "cell_type": "code",
   "execution_count": null,
   "id": "1804df85-5764-46dc-b081-58cd00189fb5",
   "metadata": {},
   "outputs": [],
   "source": [
    "pip install pygame"
   ]
  }
 ],
 "metadata": {
  "kernelspec": {
   "display_name": "Python 3 (ipykernel)",
   "language": "python",
   "name": "python3"
  },
  "language_info": {
   "codemirror_mode": {
    "name": "ipython",
    "version": 3
   },
   "file_extension": ".py",
   "mimetype": "text/x-python",
   "name": "python",
   "nbconvert_exporter": "python",
   "pygments_lexer": "ipython3",
   "version": "3.11.5"
  }
 },
 "nbformat": 4,
 "nbformat_minor": 5
}
