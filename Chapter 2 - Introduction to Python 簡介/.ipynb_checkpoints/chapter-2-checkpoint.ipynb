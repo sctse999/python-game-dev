{
 "cells": [
  {
   "cell_type": "markdown",
   "id": "aa3bef36-6091-4ff2-8bc5-07410dd0376b",
   "metadata": {
    "editable": true,
    "slideshow": {
     "slide_type": ""
    },
    "tags": []
   },
   "source": [
    "# Chapter 2 - Introduction to Python"
   ]
  },
  {
   "cell_type": "markdown",
   "id": "399d94eb-56cc-4c96-82b7-ee52e8fabb5c",
   "metadata": {
    "editable": true,
    "slideshow": {
     "slide_type": ""
    },
    "tags": []
   },
   "source": [
    "## 2.1 ```print()```"
   ]
  },
  {
   "cell_type": "markdown",
   "id": "6a51aa0a-267a-4a39-97d4-e6ad4c0463f7",
   "metadata": {
    "editable": true,
    "slideshow": {
     "slide_type": ""
    },
    "tags": []
   },
   "source": [
    "```print()``` is used to output text in Python<br>\n",
    "Things to be outputted is placed within the brackets<br>\n",
    "A new line is created for each `print()`.<br>\n",
    "\n",
    "`print()` 是用來在 Python 中進行文字輸出。<br>\n",
    "要輸出的東西被放在括號中，而每次 `print()` 也會創建新一行。<br>\n",
    "<br>\n",
    "\n",
    "Try it out below:<br>\n",
    "試試看："
   ]
  },
  {
   "cell_type": "code",
   "execution_count": null,
   "id": "9cd4b9d6-ace3-42aa-8ecf-81efc5f3144a",
   "metadata": {
    "editable": true,
    "slideshow": {
     "slide_type": ""
    },
    "tags": []
   },
   "outputs": [],
   "source": [
    "print(\"Hello World!\")"
   ]
  },
  {
   "cell_type": "markdown",
   "id": "05141bec-c907-46b7-9aaa-a3f0881c5b99",
   "metadata": {},
   "source": [
    "<hr>"
   ]
  },
  {
   "cell_type": "code",
   "execution_count": null,
   "id": "6ff5214a-87e4-4bf5-910f-ed6897d9aa4a",
   "metadata": {},
   "outputs": [],
   "source": [
    "print(10)\n",
    "print(False)"
   ]
  },
  {
   "cell_type": "markdown",
   "id": "e93b3320-7b93-4999-8b93-c9af69484380",
   "metadata": {
    "editable": true,
    "slideshow": {
     "slide_type": ""
    },
    "tags": []
   },
   "source": [
    "<hr>\n",
    "\n",
    "Note: Python is **case-sensitive**, i.e. `PRINT()` and `print()` are 2 different functions.<br>\n",
    "Therefore, `PRINT()` results in an error.<br>\n",
    "\n",
    "注意：Python 是**區分字母大小寫**的，也就是說 `PRINT()` and `print()` 是2個不同的函數。<br>\n",
    "因此，`PRINT()` 會導致錯誤。<br>\n",
    "<br>\n",
    "Try it out!<br>\n",
    "試試看！"
   ]
  },
  {
   "cell_type": "code",
   "execution_count": null,
   "id": "254cd048-1dfc-4d79-80e4-c6548e7e72b8",
   "metadata": {
    "editable": true,
    "slideshow": {
     "slide_type": ""
    },
    "tags": []
   },
   "outputs": [],
   "source": [
    "print(\"It works!\")"
   ]
  },
  {
   "cell_type": "markdown",
   "id": "ea6b5eff-bca7-4957-8dc4-378ae399c79b",
   "metadata": {},
   "source": [
    "<hr>"
   ]
  },
  {
   "cell_type": "code",
   "execution_count": null,
   "id": "6ba76401-4570-4681-b182-2022f90b3e08",
   "metadata": {},
   "outputs": [],
   "source": [
    "PRINT(\"It doesn't work...\")"
   ]
  },
  {
   "cell_type": "markdown",
   "id": "5a900c12-0701-4112-af98-75a97ec37ca7",
   "metadata": {
    "editable": true,
    "slideshow": {
     "slide_type": ""
    },
    "tags": []
   },
   "source": [
    "<hr>\n",
    "\n",
    "Other expressions can also be printed using ```print()```.<br>\n",
    "Here are some more examples:<br>\n",
    "\n",
    "其他表達式也可用 `print()` 進行輸出，例："
   ]
  },
  {
   "cell_type": "code",
   "execution_count": null,
   "id": "daf6042a-742d-4559-add7-91939b95b7b7",
   "metadata": {
    "editable": true,
    "slideshow": {
     "slide_type": ""
    },
    "tags": []
   },
   "outputs": [],
   "source": [
    "print(\"Hello, \" + \"Peter, \" + \"how are you?\")"
   ]
  },
  {
   "cell_type": "markdown",
   "id": "f8ea140d-9989-40fc-9c46-206f5521a152",
   "metadata": {},
   "source": [
    "<hr>"
   ]
  },
  {
   "cell_type": "code",
   "execution_count": null,
   "id": "e48d295a-cf18-43f0-849e-bd2011d009cc",
   "metadata": {},
   "outputs": [],
   "source": [
    "print(3.14 * 5 + 5 * 8)"
   ]
  },
  {
   "cell_type": "markdown",
   "id": "4e781690-3413-4734-8394-8183e03648dc",
   "metadata": {
    "editable": true,
    "slideshow": {
     "slide_type": ""
    },
    "tags": []
   },
   "source": [
    "<hr>\n",
    "\n",
    "So far so good, but the following command causes an error, why?<br>\n",
    "\n",
    "暫時都不錯，但以下程式碼會導致錯誤，為什麼？"
   ]
  },
  {
   "cell_type": "code",
   "execution_count": null,
   "id": "b4fe817d-fee6-4839-9f6a-73036fef130e",
   "metadata": {
    "editable": true,
    "slideshow": {
     "slide_type": ""
    },
    "tags": []
   },
   "outputs": [],
   "source": [
    "print(\"I am \" + 15 + \" years old.\")"
   ]
  },
  {
   "cell_type": "markdown",
   "id": "e62edc96-fe3d-4e04-9e87-67413c2664b0",
   "metadata": {},
   "source": [
    "<hr>"
   ]
  },
  {
   "cell_type": "markdown",
   "id": "c99b667d-f288-439d-8a1f-a0eaf62d8ec4",
   "metadata": {
    "editable": true,
    "slideshow": {
     "slide_type": ""
    },
    "tags": []
   },
   "source": [
    "What are `str` and `int`?<br>\n",
    "To understand what is happening, we have to dive into **data types** and **operators**, which we will cover soon.<br>\n",
    "\n",
    "`str` 和 `int` 是什麼？<br>\n",
    "要明白發生什麼事，我們要先了解**資料類型**和**運算子**，而我們很快便會發討它們。"
   ]
  },
  {
   "cell_type": "markdown",
   "id": "04dd1218-71f7-4fa7-bf2d-b94ce4548bc8",
   "metadata": {
    "editable": true,
    "slideshow": {
     "slide_type": ""
    },
    "tags": []
   },
   "source": [
    "## 2.2 Variables 變量"
   ]
  },
  {
   "cell_type": "markdown",
   "id": "9eaabebf-be90-448e-8b31-2d80714fd8dc",
   "metadata": {
    "editable": true,
    "slideshow": {
     "slide_type": ""
    },
    "tags": []
   },
   "source": [
    "\n",
    "#### Assigning a variable 編配變量\n",
    "Variables are containers for storing data values.<br>\n",
    "To assign a variable, simply type:<br>\n",
    "\n",
    "變量是儲存資料值的容器，要編配一個變量，只需輸入：\n",
    "```python\n",
    "variable_name = value\n",
    "```\n",
    "After that, the value assigned can be fetched easily using the variable name.<br>\n",
    "Try it out!<br>\n",
    "\n",
    "然後，使用變量名稱則可傳回已編配的資料值，試試看！"
   ]
  },
  {
   "cell_type": "code",
   "execution_count": null,
   "id": "0b746e8f-f1fa-4226-9f0a-31d19b5bd4cc",
   "metadata": {
    "editable": true,
    "slideshow": {
     "slide_type": ""
    },
    "tags": []
   },
   "outputs": [],
   "source": [
    "x = \"Hello\""
   ]
  },
  {
   "cell_type": "markdown",
   "id": "d7d4a737-76f6-4fa7-82f0-5f2896280d4f",
   "metadata": {},
   "source": [
    "<hr>"
   ]
  },
  {
   "cell_type": "code",
   "execution_count": null,
   "id": "c9a632da-df16-4b38-82a8-53bbad17d1e9",
   "metadata": {},
   "outputs": [],
   "source": [
    "print(x)"
   ]
  },
  {
   "cell_type": "markdown",
   "id": "6dd0b777-67f5-408b-8a9d-07b73f1abdc5",
   "metadata": {
    "editable": true,
    "slideshow": {
     "slide_type": ""
    },
    "tags": []
   },
   "source": [
    "<hr>\n",
    "\n",
    "In Jupyter Lab, variables defined can be used across cells.<br>\n",
    "You can even view their values by enabing the \"Debugger\" function.<br>\n",
    "\n",
    "在Jupyter Lab中，已定義的變量可橫跨儲存格使用。<br>\n",
    "使用\"除錯器\"功能更可以查看它們的值。\n",
    "\n",
    "![img6](img6.png)"
   ]
  },
  {
   "cell_type": "markdown",
   "id": "2270a2fd-5dc7-440b-9a5f-b0a143292bf1",
   "metadata": {
    "editable": true,
    "slideshow": {
     "slide_type": ""
    },
    "tags": []
   },
   "source": [
    "<hr>"
   ]
  },
  {
   "cell_type": "code",
   "execution_count": null,
   "id": "543ba6da-8cff-4398-81ef-1902aa2c2cec",
   "metadata": {},
   "outputs": [],
   "source": [
    "a = 5\n",
    "b = 20\n",
    "print(a + b)"
   ]
  },
  {
   "cell_type": "markdown",
   "id": "2271c956-8c11-4b7f-947d-a20f0cd169ef",
   "metadata": {
    "editable": true,
    "slideshow": {
     "slide_type": ""
    },
    "tags": []
   },
   "source": [
    "<hr>\n",
    "\n",
    "Assigning a new value to a existing variable overwrites the original value.<br>\n",
    "For example:<br>\n",
    "\n",
    "為變量編配一個新的值會使其原有的值被覆蓋，例："
   ]
  },
  {
   "cell_type": "code",
   "execution_count": null,
   "id": "b7add045-0c37-47ed-af25-f275bfff2b58",
   "metadata": {
    "editable": true,
    "slideshow": {
     "slide_type": ""
    },
    "tags": []
   },
   "outputs": [],
   "source": [
    "x = 10\n",
    "x = 20\n",
    "print(x)\n",
    "x = 15\n",
    "print(x)"
   ]
  },
  {
   "cell_type": "markdown",
   "id": "7c686356-a3cd-47ae-b6b8-a3489508d5a9",
   "metadata": {
    "editable": true,
    "slideshow": {
     "slide_type": ""
    },
    "tags": []
   },
   "source": [
    "<hr>\n",
    "\n",
    "#### Naming a variable 為變量命名\n",
    "There several rules in creating variable names: <br>\n",
    "1.  Only characters `0`-`9`, `a`-`z`, `A`-`Z`, and `_` can be used\n",
    "2.  The 1st character cannot be numbers\n",
    "3.  Reserved words (e.g. `print`, `int`, other function names) cannot be used<br>\n",
    "\n",
    "為變量命名有數個規則：\n",
    "1. 只可使用 `0`-`9`、`a`-`z`、`A`-`Z`、及 `_`\n",
    "2. 第一個字元不得為數字\n",
    "3. 不可使用預留字眼 (例： `print`、`int`、及其他函數名稱<br>\n",
    "\n",
    "Note: Python is **case-sensitive**, i.e. `apple` and `Apple` are 2 different variables<br>\n",
    "注意：Python 是**區分字母大小寫**的，也就是說 `apple` 和 `Apple` 是2個不同的變量。"
   ]
  },
  {
   "cell_type": "markdown",
   "id": "48576a55-d711-4cdd-b0fa-78786735dd32",
   "metadata": {
    "editable": true,
    "slideshow": {
     "slide_type": ""
    },
    "tags": []
   },
   "source": [
    "## 2.3 Data types 資料類型"
   ]
  },
  {
   "cell_type": "markdown",
   "id": "6806bb9d-42d6-438f-92db-48c04078f294",
   "metadata": {
    "editable": true,
    "jp-MarkdownHeadingCollapsed": true,
    "slideshow": {
     "slide_type": ""
    },
    "tags": []
   },
   "source": [
    "\n",
    "Data stored in Python are of different data types.<br>\n",
    "Here are the most common data types:<br>\n",
    "\n",
    "在 Python 中儲存的資料有不同的類型，以下是一些最常見的類型：\n",
    "<body>\n",
    "    <table>\n",
    "        <tr style=\"text-align:left;\">\n",
    "            <th style=\"width:10%\">Code</th>\n",
    "            <th style=\"width:15%\">Full Name</th>\n",
    "            <th style=\"width:30%\">Description</th>\n",
    "            <th style=\"width:35%\">Examples</th>\n",
    "        </tr>\n",
    "        <tr>\n",
    "            <td>int</td>\n",
    "            <td>Integer 整數</td>\n",
    "            <td>Integral numbers 整數</td>\n",
    "            <td>3, 5, -7</td>\n",
    "        </tr>\n",
    "        <tr>\n",
    "            <td>float</td>\n",
    "            <td>Float 浮點數</td>\n",
    "            <td>Floating point numbers (with decimals) 有小數點的數</td>\n",
    "            <td>3.14, -2.718, 2.0</td>\n",
    "        </tr>\n",
    "        <tr>\n",
    "            <td>str</td>\n",
    "            <td>String 字串</td>\n",
    "            <td>A series of characters 一串字元</td>\n",
    "            <td>\"Hello World!\", 'What is your name?', \"123\"</td>\n",
    "        </tr>\n",
    "        <tr>\n",
    "            <td>bool</td>\n",
    "            <td>Boolean 布爾值</td>\n",
    "            <td>True / False, stored as 1 and 0 respectively 真/假，分別儲存為1及0</td>\n",
    "            <td>True, False</td>\n",
    "        </tr>\n",
    "    </table>\n",
    "</body>\n",
    "\n",
    "Everything quoted by `\"` or `'` are strings.<br>\n",
    "\n",
    "所有被 `\"` 或 `'` 括著的都是字串。<br>\n",
    "\n",
    "`123`: Integer 整數<br>\n",
    "`\"123\"`: String: 字串<br>\n",
    "<br>\n",
    "`Apple`: Variable name 變量名稱<br>\n",
    "`\"Apple\"`: String 字串<br>\n",
    "\n",
    "However, the quotation marks are not printed when using `print()`.<br>\n",
    "\n",
    "可是，在使用 `print()` 時，引數並不會被顯示出來。<br>\n",
    "<br>\n",
    "The function ```type()``` returns the type of the data.<br>\n",
    "By putting it in a `print()` function, the type will be displayed.<br>\n",
    "Try to run the following codes:<br> \n",
    "\n",
    "函數 `type()` 會傳回資料的類型，將其放在 `print()` 函數中則會顯示該類型。<br>\n",
    "試執行以下程式碼："
   ]
  },
  {
   "cell_type": "code",
   "execution_count": null,
   "id": "00969270-f191-40c0-95d6-4039f56ae1f6",
   "metadata": {
    "editable": true,
    "slideshow": {
     "slide_type": ""
    },
    "tags": []
   },
   "outputs": [],
   "source": [
    "print(type(3))"
   ]
  },
  {
   "cell_type": "markdown",
   "id": "3174f00e-adcd-4e80-b71d-4f1256ab9b39",
   "metadata": {
    "editable": true,
    "slideshow": {
     "slide_type": ""
    },
    "tags": []
   },
   "source": [
    "<hr>"
   ]
  },
  {
   "cell_type": "code",
   "execution_count": null,
   "id": "4197e909-3652-415d-896e-350499909f4b",
   "metadata": {
    "editable": true,
    "slideshow": {
     "slide_type": ""
    },
    "tags": []
   },
   "outputs": [],
   "source": [
    "print(type(3.14))"
   ]
  },
  {
   "cell_type": "markdown",
   "id": "0ba53e82-704f-4747-9ecd-fa98e4d76f1e",
   "metadata": {},
   "source": [
    "<hr>"
   ]
  },
  {
   "cell_type": "code",
   "execution_count": null,
   "id": "262925ef-2586-46bc-878c-fc6fd364af15",
   "metadata": {},
   "outputs": [],
   "source": [
    "print(type(\"3.14\"))"
   ]
  },
  {
   "cell_type": "markdown",
   "id": "7ba30dd6-2a64-423f-a117-1865d6441b15",
   "metadata": {},
   "source": [
    "<hr>"
   ]
  },
  {
   "cell_type": "code",
   "execution_count": null,
   "id": "78a5dd20-8161-4748-9378-e891be1559a3",
   "metadata": {},
   "outputs": [],
   "source": [
    "print(type(True))"
   ]
  },
  {
   "cell_type": "markdown",
   "id": "31a8fe02-eb5d-4ce3-9034-f0e63cae22e1",
   "metadata": {},
   "source": [
    "<hr>"
   ]
  },
  {
   "cell_type": "markdown",
   "id": "ce24214f-3a99-47a0-8d6f-3419c81bddd5",
   "metadata": {
    "editable": true,
    "slideshow": {
     "slide_type": ""
    },
    "tags": []
   },
   "source": [
    "To change one's data type, you can use the following functions:<br>\n",
    "\n",
    "要改變資料的類型，可使用以下函數：<br>\n",
    "* ```int()```\n",
    "* ```float()```\n",
    "* ```str()```\n",
    "* ```bool()```\n",
    "Each function converts its inputted data to that corresponding data type,<br>\n",
    "\n",
    "各函數會將傳入的資料改變為相應的類型，<br>\n",
    "e.g. 例： `int()` → `int` (Integer 整數), `str()` → `str` (String 字串)<br>\n",
    "<br>\n",
    "Try it by yourself!<br>\n",
    "自己試試看！"
   ]
  },
  {
   "cell_type": "code",
   "execution_count": null,
   "id": "d0d86dce-f7c2-49bf-871e-0ccf4315380b",
   "metadata": {
    "editable": true,
    "slideshow": {
     "slide_type": ""
    },
    "tags": []
   },
   "outputs": [],
   "source": [
    "print(int(6.9), type(int(6.9)))"
   ]
  },
  {
   "cell_type": "markdown",
   "id": "2c3fc610-7143-40fb-8e79-e5a032186d2a",
   "metadata": {},
   "source": [
    "<hr>"
   ]
  },
  {
   "cell_type": "code",
   "execution_count": null,
   "id": "3e90a8cf-abb7-4f3b-aa23-5c4b9c89d600",
   "metadata": {},
   "outputs": [],
   "source": [
    "print(float(\"4\"), type(float(\"4\")))"
   ]
  },
  {
   "cell_type": "markdown",
   "id": "d7bcadca-d9db-4cb5-9357-6133f523d61a",
   "metadata": {},
   "source": [
    "<hr>"
   ]
  },
  {
   "cell_type": "code",
   "execution_count": null,
   "id": "555c9e78-4895-42bc-b5aa-a15089cf1794",
   "metadata": {},
   "outputs": [],
   "source": [
    "print(str(4), type(str(4)))"
   ]
  },
  {
   "cell_type": "markdown",
   "id": "f595b9a4-fc95-473b-8972-acc0660484b0",
   "metadata": {},
   "source": [
    "<hr>"
   ]
  },
  {
   "cell_type": "code",
   "execution_count": null,
   "id": "e1f8427f-dd00-4266-8273-d7079f7b9676",
   "metadata": {},
   "outputs": [],
   "source": [
    "print(bool(0), type(bool(0)))"
   ]
  },
  {
   "cell_type": "markdown",
   "id": "22a27094-f8a2-452a-b412-97a1e289d0fa",
   "metadata": {},
   "source": [
    "<hr>"
   ]
  },
  {
   "cell_type": "markdown",
   "id": "5bb41119-8cfd-419a-b845-4914a78bffe2",
   "metadata": {
    "editable": true,
    "slideshow": {
     "slide_type": ""
    },
    "tags": []
   },
   "source": [
    "Now let's review this command:<br>\n",
    "\n",
    "現在讓我們重新審視這個程式碼：\n",
    "```python\n",
    "print(\"I am \" + 15 + \" years old.\")\n",
    "```\n",
    "Check the data types of `\"I am \"`, `15`, and `\" years old.\"` by using the function `type()`,<br>\n",
    "and print the result by `print()`! What can you observe? **(2 min.)**<br>\n",
    "\n",
    "試用 `type()` 函數檢查 `\"I am \"`、`15`、及`\" years old.\"`的類型，並以 `print()` 顯示出來！<br>\n",
    "你觀察到什麼呢？ **(2分鐘)**"
   ]
  },
  {
   "cell_type": "code",
   "execution_count": null,
   "id": "59eae3a7-db20-4559-9daa-b9ad3d1320d2",
   "metadata": {
    "editable": true,
    "slideshow": {
     "slide_type": ""
    },
    "tags": []
   },
   "outputs": [],
   "source": [
    "print(type(\"I am \"))\n",
    "print(type(     )) # <<< Put 15 inside the brackets\n",
    "print(type(     )) # <<< Put \" years old.\" inside the brackets"
   ]
  },
  {
   "cell_type": "markdown",
   "id": "dc23dbba-16dd-4975-85d2-11452cb8a724",
   "metadata": {
    "editable": true,
    "slideshow": {
     "slide_type": ""
    },
    "tags": []
   },
   "source": [
    "<hr>\n",
    "\n",
    "Just by knowing the data types of the above elements, we can't explain the error yet.<br>\n",
    "Instead, let's learn about operators first!<br>\n",
    "\n",
    "只知道以上資料的類型並不足以令我們解釋該錯誤，相反地，讓我們先了解運算子！"
   ]
  },
  {
   "cell_type": "markdown",
   "id": "983528fd-1088-470e-a7b6-172eda1a79d7",
   "metadata": {
    "editable": true,
    "slideshow": {
     "slide_type": ""
    },
    "tags": []
   },
   "source": [
    "## 2.4 Operators 運算子"
   ]
  },
  {
   "cell_type": "markdown",
   "id": "77e8bc80-b932-4ca8-9ef2-ccb8aed30814",
   "metadata": {
    "editable": true,
    "slideshow": {
     "slide_type": ""
    },
    "tags": []
   },
   "source": [
    "\n",
    "There are several types of operators, for example: <br>\n",
    "* Arithemetic operators\n",
    "* Comparison operators\n",
    "* Logical operators\n",
    "\n",
    "運算子有分為數種，例：\n",
    "* 算術運算子\n",
    "* 比較運算子\n",
    "* 邏輯運算子\n",
    "\n",
    "#### Arithmetic operators 算術運算子\n",
    "For numbers: 數字方面：\n",
    "<body>\n",
    "    <table style=\"text-align:center;\">\n",
    "        <tr>\n",
    "            <th>Operator 運算子</th>\n",
    "            <th>Name 名稱</th>\n",
    "            <th>Expression 表達式</th>\n",
    "            <th>Result 結果</th>\n",
    "        </tr>\n",
    "        <tr>\n",
    "            <td>+</td>\n",
    "            <td>Addition 加</td>\n",
    "            <td>9 + 2</td>\n",
    "            <td>11</td>\n",
    "        </tr>\n",
    "        <tr>\n",
    "            <td>-</td>\n",
    "            <td>Subtraction 減</td>\n",
    "            <td>9 - 2</td>\n",
    "            <td>7</td>\n",
    "        </tr>\n",
    "        <tr>\n",
    "            <td>*</td>\n",
    "            <td>Multiplication乘</td>\n",
    "            <td>9 * 2</td>\n",
    "            <td>18</td>\n",
    "        </tr>\n",
    "        <tr>\n",
    "            <td>/</td>\n",
    "            <td>Division 除</td>\n",
    "            <td>9 / 2</td>\n",
    "            <td>4.5</td>\n",
    "        </tr>\n",
    "        <tr>\n",
    "            <td>//</td>\n",
    "            <td>Quotient 商</td>\n",
    "            <td>9 // 2</td>\n",
    "            <td>4</td>\n",
    "        </tr>\n",
    "        <tr>\n",
    "            <td>%</td>\n",
    "            <td>Modulo 餘數</td>\n",
    "            <td>9 % 2</td>\n",
    "            <td>1</td>\n",
    "        </tr>\n",
    "    </table>\n",
    "</body>\n",
    "\n",
    "The order of operation is valid here.<br>\n",
    "\n",
    "「先乘除，後加減」在此亦適用。<br>\n",
    "\n",
    "Some arithemetic operators can also be used with strings:<br>\n",
    "\n",
    "一些算術運算子也可用於字串：\n",
    "<body>\n",
    "    <table style=\"text-align:center;\">\n",
    "        <tr>\n",
    "            <th>Operator 運算子</th>\n",
    "            <th>Name 名稱</th>\n",
    "            <th>Expression 表達式</th>\n",
    "            <th>Result 結果</th>\n",
    "            <th>Syntax 格式</th>\n",
    "        </tr>\n",
    "        <tr>\n",
    "            <td>+</td>\n",
    "            <td>Concatenation 串接</td>\n",
    "            <td>\"Hello \" + \"World!\"</td>\n",
    "            <td>\"Hello World!\"</td>\n",
    "            <td><b>str</b> + <b>str</b></td>\n",
    "        </tr>\n",
    "        <tr>\n",
    "            <td>*</td>\n",
    "            <td>Multiplication 乘</td>\n",
    "            <td>\"Hi\" * 5</td>\n",
    "            <td>\"HiHiHiHiHi\"</td>\n",
    "            <td><b>str</b> * <b>int</b></td>\n",
    "        </tr>\n",
    "    </table>\n",
    "</body>\n",
    "Give it a try!<br>\n",
    "試試看！"
   ]
  },
  {
   "cell_type": "code",
   "execution_count": null,
   "id": "c8985dd1-f45c-480b-88af-7374ee7eb4a9",
   "metadata": {
    "editable": true,
    "slideshow": {
     "slide_type": ""
    },
    "tags": []
   },
   "outputs": [],
   "source": [
    "print(1 * 2 + 2 * 3 + 3 * 5)\n",
    "print(1 * 2 / 3 * 4 / 5 * 6)\n",
    "print(\"Hello \" * 10)"
   ]
  },
  {
   "cell_type": "markdown",
   "id": "f14b7e52-5dd9-40d2-ab09-bb8e6b853562",
   "metadata": {
    "editable": true,
    "slideshow": {
     "slide_type": ""
    },
    "tags": []
   },
   "source": [
    "<hr>\n",
    "\n",
    "```python\n",
    "print(\"I am \" + 15 + \" years old.\")\n",
    "```\n",
    "Back to this command.<br>\n",
    "As we can only **add** number (`int`/`float`) together and **concatenate** strings together,<br>\n",
    "attempting to add an integer to a string results in an error.<br>\n",
    "回到這個指令，由於我們只可將數個數值 (`int`/`float`) **加**起來，和將數個字串**串接**起來，<br>\n",
    "嘗試將一個整數和字串加起來就會造成錯誤。<br>\n",
    "<br>\n",
    "To fix it, we just need to use `str()` to change `15` (Integer) into `\"15\"` (String), or directly use `\"15\"`.<br>\n",
    "Try to modify the command by adding a `str()` function to fix it: **(3 min.)** <br>\n",
    "要修復它，我們只需要用 `str()` 函數將 `15` (整數) 變成 `\"15\"` (字串)，或直接用 `\"15\"`。<br>\n",
    "試新增一個 `str()` 函數以修復此指令： **(3分鐘)**"
   ]
  },
  {
   "cell_type": "code",
   "execution_count": null,
   "id": "5bde03fd-7f60-427d-a693-228450fc7a47",
   "metadata": {
    "editable": true,
    "slideshow": {
     "slide_type": ""
    },
    "tags": []
   },
   "outputs": [],
   "source": [
    "print(\"I am \" + 15 + \" years old.\")"
   ]
  },
  {
   "cell_type": "markdown",
   "id": "a60c940f-081e-43b6-8ed2-a447e60c89b5",
   "metadata": {
    "editable": true,
    "jp-MarkdownHeadingCollapsed": true,
    "slideshow": {
     "slide_type": ""
    },
    "tags": []
   },
   "source": [
    "#### Answer"
   ]
  },
  {
   "cell_type": "code",
   "execution_count": null,
   "id": "5294b00d-93a0-4aa8-ac51-6e161b60cf67",
   "metadata": {},
   "outputs": [],
   "source": [
    "print(\"I am \" + str(15) + \" years old.\")"
   ]
  },
  {
   "cell_type": "markdown",
   "id": "5bffd370-27ed-48a3-835f-fb3259759dbb",
   "metadata": {},
   "source": [
    "<hr>"
   ]
  },
  {
   "cell_type": "markdown",
   "id": "bda83865-0946-4566-a3ef-51c9d3841873",
   "metadata": {
    "editable": true,
    "slideshow": {
     "slide_type": ""
    },
    "tags": []
   },
   "source": [
    "#### Comparison operators 比較運算子\n",
    "Outputs of comparison operators are always boolean values (`True` / `False`)<br>\n",
    "比較運算子的輸出永遠都是布爾值 (`True` / `False`)\n",
    "<body>\n",
    "    <table style=\"text-align:center;\">\n",
    "        <tr>\n",
    "            <th>Operator 運算子</th>\n",
    "            <th>Name 名稱</th>\n",
    "            <th>Expression 表達式</th>\n",
    "            <th>Result 結果</th>\n",
    "        </tr>\n",
    "        <tr>\n",
    "            <td>==</td>\n",
    "            <td>Equal to 等於</td>\n",
    "            <td>9 == 2</td>\n",
    "            <td>False</td>\n",
    "        </tr>\n",
    "        <tr>\n",
    "            <td>!=</td>\n",
    "            <td>Not equal to 不等於</td>\n",
    "            <td>9 != 2</td>\n",
    "            <td>True</td>\n",
    "        </tr>\n",
    "        <tr>\n",
    "            <td>></td>\n",
    "            <td>Greater than 大於</td>\n",
    "            <td>9 > 2</td>\n",
    "            <td>True</td>\n",
    "        </tr>\n",
    "        <tr>\n",
    "            <td>>=</td>\n",
    "            <td>Greater than or equal to 大於或等於</td>\n",
    "            <td>9 >= 2</td>\n",
    "            <td>True</td>\n",
    "        </tr>\n",
    "        <tr>\n",
    "            <td><</td>\n",
    "            <td>Smaller than 小於</td>\n",
    "            <td>9 < 2</td>\n",
    "            <td>False</td>\n",
    "        </tr>\n",
    "        <tr>\n",
    "            <td><=</td>\n",
    "            <td>Smaller than or equal to 小於或等於</td></td>\n",
    "            <td>9 <= 2</td>\n",
    "            <td>False</td>\n",
    "        </tr>\n",
    "    </table>\n",
    "</body>\n",
    "String and boolean values can also be compared using comparison operators, give it a try!<br>\n",
    "字串及布爾值也可以比較運算子進行比較，試試看！"
   ]
  },
  {
   "cell_type": "code",
   "execution_count": null,
   "id": "a943b593-9cc6-4041-ac80-9d4d98ded008",
   "metadata": {
    "editable": true,
    "slideshow": {
     "slide_type": ""
    },
    "tags": []
   },
   "outputs": [],
   "source": [
    "print(\"Hello\" == \"Hello\")"
   ]
  },
  {
   "cell_type": "markdown",
   "id": "f49e736c-5dcd-4f8e-918b-ca4c9119a91d",
   "metadata": {},
   "source": [
    "<hr>"
   ]
  },
  {
   "cell_type": "code",
   "execution_count": null,
   "id": "1cb2fa76-d26c-4155-bb95-a15d292da1b8",
   "metadata": {},
   "outputs": [],
   "source": [
    "print(2 != 0)"
   ]
  },
  {
   "cell_type": "markdown",
   "id": "d194bf2a-d950-45d8-a6e3-6de5e960b941",
   "metadata": {},
   "source": [
    "<hr>"
   ]
  },
  {
   "cell_type": "code",
   "execution_count": null,
   "id": "d71edfd5-1f2a-49c2-ae80-c8f8f106b829",
   "metadata": {},
   "outputs": [],
   "source": [
    "print(True >= False)"
   ]
  },
  {
   "cell_type": "markdown",
   "id": "0e680aa3-3ee4-4db3-894f-4c0443cb53e0",
   "metadata": {},
   "source": [
    "<hr>"
   ]
  },
  {
   "cell_type": "code",
   "execution_count": null,
   "id": "1e149cd7-d1e0-4c08-8b2c-6b0fadefb5b5",
   "metadata": {},
   "outputs": [],
   "source": [
    "print(-9 < 3)"
   ]
  },
  {
   "cell_type": "markdown",
   "id": "dd2adb86-c717-4e43-aa86-c84bd99b8fc1",
   "metadata": {},
   "source": [
    "<hr>"
   ]
  },
  {
   "cell_type": "markdown",
   "id": "bd952f05-35db-451d-a284-80db1a0ce32f",
   "metadata": {
    "editable": true,
    "slideshow": {
     "slide_type": ""
    },
    "tags": []
   },
   "source": [
    "#### Logical operators 邏輯運算子\n",
    "Logical operators require 1 / 2 boolean values as input, and output 1 boolean value.<br>\n",
    "Their respective outputs can be represented by tables (Truth tables).<br>\n",
    "\n",
    "邏輯運算子需要傳入 1 / 2 個布爾值，而會傳出 1 個布爾值。<br>\n",
    "它們各自的輸出可以以表格列出來 (真值表) 。<br>\n",
    "![img1](img1.png)<br>\n",
    "Give it a try!<br>\n",
    "試試看！"
   ]
  },
  {
   "cell_type": "code",
   "execution_count": null,
   "id": "950b334a-dd96-4aea-b197-a1c4056b2a5d",
   "metadata": {
    "editable": true,
    "slideshow": {
     "slide_type": ""
    },
    "tags": []
   },
   "outputs": [],
   "source": [
    "A = True\n",
    "B = False\n",
    "print(A and B)"
   ]
  },
  {
   "cell_type": "code",
   "execution_count": null,
   "id": "be0e4e6a-301d-471a-a816-249e98a0ffc9",
   "metadata": {},
   "outputs": [],
   "source": [
    "A = True\n",
    "B = False\n",
    "print(A or B)"
   ]
  },
  {
   "cell_type": "code",
   "execution_count": null,
   "id": "9ea020d1-60fc-4d6d-b440-345eb01ff8e7",
   "metadata": {},
   "outputs": [],
   "source": [
    "A = True\n",
    "print(not A)"
   ]
  },
  {
   "cell_type": "markdown",
   "id": "838cda93-440a-4d76-89cd-5f3fb3eaf241",
   "metadata": {
    "editable": true,
    "slideshow": {
     "slide_type": ""
    },
    "tags": []
   },
   "source": [
    "<hr>\n",
    "\n",
    "Logical operators and comparison operators are commonly used in conditional statements. <br>\n",
    "It will be discussed in the following section.<br>\n",
    "\n",
    "邏輯運算子及比較運算子常用於條件運算式中，並會於接下來的部分談及。"
   ]
  },
  {
   "cell_type": "markdown",
   "id": "0d6802d6-5a5d-4bec-8d9d-8f9d89dc688a",
   "metadata": {
    "editable": true,
    "slideshow": {
     "slide_type": ""
    },
    "tags": []
   },
   "source": [
    "## 2.5 Conditional Statements 條件運算式 (If... Else...)"
   ]
  },
  {
   "cell_type": "markdown",
   "id": "d2c4cb6d-d19c-45bb-a57f-b3a834c8d71d",
   "metadata": {
    "editable": true,
    "slideshow": {
     "slide_type": ""
    },
    "tags": []
   },
   "source": [
    "\n",
    "Syntax of a basic If... Statement: <br>\n",
    "\n",
    "If... 運算式的基本格式：<br>\n",
    "```python\n",
    "if condition:\n",
    "    statement_A\n",
    "```\n",
    "You can use comparison operators to create the conditions:<br>\n",
    "\n",
    "你可以用比較運算子創建條件：\n",
    "```python\n",
    "A = 10\n",
    "B = 20\n",
    "if A <= B:\n",
    "    print(\"A is smaller than or equal to B.\")\n",
    "```\n",
    "Only when the given condition is `True`, statement A will be executed.<br>\n",
    "Below is a flow chart for illustrating this operation.<br>\n",
    "\n",
    "只有當列明的條件為 `True` ，指令 A 才會被執行。以下是此程序的流程圖。\n",
    "![img3](img3.png) <br>\n",
    "Note that `statement_A` is indented (with white spaces in front of it).<br>\n",
    "This is because Python relies on indentation to define scope in the code.<br>\n",
    "\n",
    "留意 `statement_A` 是經過縮排的 (前方有數個空格)，這是因為 Python 依賴縮排來辨別代碼的範圍。\n",
    "\n",
    "If the statements for the conditional statement contains more than one line, all of them has to be indented:<br>\n",
    "\n",
    "若條件運算式的指令部分包括多於一行，所有陳述均需縮排：\n",
    "```python\n",
    "if condition:\n",
    "    statement_A1 # Executed only when the condition is satisfied\n",
    "    statement_A2 # 只會在條件符合時執行\n",
    "    statement_A3 # Executed only when the condition is satisfied\n",
    "statement_X      # Outside the If... statement, always executed \n",
    "statement_Y      # 在 If... 運算式外，總會被執行\n",
    "```\n",
    "You can create an indentation easily by pressing `Tab`, instead of pressing `Space` for a few times.<br>\n",
    "Without the indentation, an error will occur:<br>\n",
    "\n",
    "你可以按 `Tab` 鍵來縮排，而毋須按多次 `Space` 鍵。若沒有縮排，將會出現錯誤：\n"
   ]
  },
  {
   "cell_type": "code",
   "execution_count": null,
   "id": "34f8ea1e-8e00-4270-a26f-c024b1b75feb",
   "metadata": {
    "editable": true,
    "slideshow": {
     "slide_type": ""
    },
    "tags": []
   },
   "outputs": [],
   "source": [
    "if True:\n",
    "print(\"It is true!\") # Not indented 沒有縮排 => Error 錯誤"
   ]
  },
  {
   "cell_type": "markdown",
   "id": "cda3a803-fdc7-4b05-8ac6-535092f27bfc",
   "metadata": {},
   "source": [
    "<hr>"
   ]
  },
  {
   "cell_type": "code",
   "execution_count": null,
   "id": "b91ce2cd-1060-449f-91c9-9bb1f44a1e36",
   "metadata": {
    "editable": true,
    "slideshow": {
     "slide_type": ""
    },
    "tags": []
   },
   "outputs": [],
   "source": [
    "if True:\n",
    "    print(\"It is true!\") # Indented 有縮排 => Good! 好！"
   ]
  },
  {
   "cell_type": "markdown",
   "id": "55fe790f-274d-41e9-a3fa-b999a0565ad6",
   "metadata": {},
   "source": [
    "<hr>"
   ]
  },
  {
   "cell_type": "markdown",
   "id": "b9c47910-c3e2-49a6-a8cf-61a2369fb64e",
   "metadata": {
    "editable": true,
    "slideshow": {
     "slide_type": ""
    },
    "tags": []
   },
   "source": [
    "\n",
    "\n",
    "If you want to execute another statement when the given condition is `False`, use an If... Else... statement:<br>\n",
    "\n",
    "若你希望在列明條件為 `False` 時執行其他指令，可用 If... Else... 運算式：\n",
    "```python\n",
    "if condition:\n",
    "    statement_A\n",
    "else:\n",
    "    statement_B\n",
    "```\n",
    "![img2](img2.png) <br>\n",
    "If there is more than one condition, you may use the If... Else If... Else... statement.<br>\n",
    "In Python, Else If is shortened as `elif`:<br>\n",
    "\n",
    "若有多於一個條件，你可以使用 If... Else If... Else... 運算式。在 Python 中，Else If 會被簡寫成 `elif`：\n",
    "```python\n",
    "if condition_1:\n",
    "    statement_A\n",
    "    \n",
    "elif condition_2:\n",
    "    statement_B\n",
    "    \n",
    "else:\n",
    "    statement_C\n",
    "```\n",
    "It is identical to:<br>\n",
    "\n",
    "這與以下運算式無異：\n",
    "```python\n",
    "if condition_1:\n",
    "    statement_A\n",
    "else:\n",
    "    if condition_2:\n",
    "        statement_B\n",
    "    else:\n",
    "        statement_C\n",
    "```\n",
    "![img4](img4.png)<br>\n",
    "Note that the `elif` statement is only examined when the first condition is `False`.<br>\n",
    "The number of conditions is not limited.<br>\n",
    "\n",
    "留意 `elif` 指令部分僅會在第一個條件為 `False` 時進行檢驗。條件的數量沒有限制。<br>\n",
    "<br>\n",
    "You may use as many `elif condition_n:` as you like, for example:<br>\n",
    "\n",
    "你希望用多少 `elif condition_n:` 也可以，例："
   ]
  },
  {
   "cell_type": "code",
   "execution_count": null,
   "id": "74f8a423-885a-42d7-8b8f-f65caf8163b0",
   "metadata": {
    "editable": true,
    "slideshow": {
     "slide_type": ""
    },
    "tags": []
   },
   "outputs": [],
   "source": [
    "### Grade Calculator 評級計算機\n",
    "score = int(input(\"Input your score: \"))\n",
    "\n",
    "if score >= 80:\n",
    "    print(\"A\")\n",
    "    print(\"Excellent! ^w^\")\n",
    "    \n",
    "elif score >= 70:\n",
    "    print(\"B\")\n",
    "    print(\"Very good! :D\")\n",
    "    \n",
    "elif score >= 60:\n",
    "    print(\"C\")\n",
    "    print(\"Good! :)\")\n",
    "    \n",
    "elif score >= 50:\n",
    "    print(\"D\")\n",
    "    print(\"Fairly Good. :/\")\n",
    "    \n",
    "elif score >= 40:\n",
    "    print(\"E\")\n",
    "    print(\"Work harder. :(\")\n",
    "    \n",
    "else:\n",
    "    print(\"F\")\n",
    "    print(\"Failed! >:(\")"
   ]
  },
  {
   "cell_type": "markdown",
   "id": "162f9d8b-8632-4eb9-b375-136c256d2917",
   "metadata": {
    "editable": true,
    "slideshow": {
     "slide_type": ""
    },
    "tags": []
   },
   "source": [
    "## 2.6 For loop 循環"
   ]
  },
  {
   "cell_type": "markdown",
   "id": "0ad66cb3-c2d9-440e-9295-2260a82a1c3c",
   "metadata": {
    "editable": true,
    "slideshow": {
     "slide_type": ""
    },
    "tags": []
   },
   "source": [
    "\n",
    "A for loop is used for iterating over a sequence of things, usually numbers or characters.<br>\n",
    "A variable is used store the elements of the sequence.<br>\n",
    "\n",
    "For 循環用作在一個列中(通常為數列或字元排列)重複執行，而該列的組件會被儲存在一個變量之中。<br>\n",
    "<br>\n",
    "Syntax 格式:\n",
    "```python\n",
    "for variable in sequence:\n",
    "    statement_A\n",
    "    statement_B\n",
    "    ...\n",
    "```\n",
    "The `range()` function acts like a sequence of numbers, and is usually used with for loop.<br>\n",
    "\n",
    "`range()` 函數會模擬一個數列，而且常與 For 循環一同使用。<br>\n",
    "For example 例:"
   ]
  },
  {
   "cell_type": "code",
   "execution_count": null,
   "id": "401e7834-6980-4493-bab9-4f71a8255c1d",
   "metadata": {
    "editable": true,
    "slideshow": {
     "slide_type": ""
    },
    "tags": []
   },
   "outputs": [],
   "source": [
    "for x in range(10):\n",
    "    print(x)"
   ]
  },
  {
   "cell_type": "markdown",
   "id": "e60e1a79-8cc0-458e-b4df-ee24954eeea9",
   "metadata": {
    "editable": true,
    "slideshow": {
     "slide_type": ""
    },
    "tags": []
   },
   "source": [
    "<hr>\n",
    "\n",
    "Note that the indexes of Python starts from **0**, not 1,<br>\n",
    "Therefore, `range(10)` represents a series of numbers from **0** to **9**, excluding 10.<br>\n",
    "\n",
    "留意 Python 的數列由 **0** 開始，而非 1，因此 `range(10)` 表示由 **0** 至 **9** 的數列，不包括 10。 <br>\n",
    "<br>\n",
    "Similar to conditional statements, for loop requires proper indentation.<br>\n",
    "Compare the following programs:<br>\n",
    "\n",
    "和條件運算式相似，For 循環要求適當的縮排。<br>\n",
    "比較以下兩個程式："
   ]
  },
  {
   "cell_type": "code",
   "execution_count": null,
   "id": "5bb55e4b-10b0-4de5-b329-a7e350a13e75",
   "metadata": {
    "editable": true,
    "slideshow": {
     "slide_type": ""
    },
    "tags": []
   },
   "outputs": [],
   "source": [
    "for x in range(5):\n",
    "    print(x)\n",
    "print(\"End\")"
   ]
  },
  {
   "cell_type": "markdown",
   "id": "0636d0ad-f637-41ad-90da-281a0c5c19eb",
   "metadata": {},
   "source": [
    "<hr>"
   ]
  },
  {
   "cell_type": "code",
   "execution_count": null,
   "id": "aca3c202-4125-41d8-800a-a734b4ae8511",
   "metadata": {},
   "outputs": [],
   "source": [
    "for x in range(5):\n",
    "    print(x)\n",
    "    print(\"End\")"
   ]
  },
  {
   "cell_type": "markdown",
   "id": "45e4c34a-fcd1-4f54-922a-951a459c064e",
   "metadata": {
    "editable": true,
    "slideshow": {
     "slide_type": ""
    },
    "tags": []
   },
   "source": [
    "<hr>\n",
    "\n",
    "#### Exercise 練習\n",
    "By combining for loop with `range()`, we can repeat a series of actions for a sepcific amount of times.<br>\n",
    "Try to print `\"Hi\"` for 20 times using for loop: **(5 min.)**<br>\n",
    "\n",
    "通過組合 For 循環 及 `range()`，我們可以有特定次數地重複一些指令。<br>\n",
    "試用 For 循環顯示 `\"Hi\"` 20 次： **(5分鐘)**"
   ]
  },
  {
   "cell_type": "code",
   "execution_count": null,
   "id": "537ef43a-ccb2-4c80-8f91-e8f8a9f57fb7",
   "metadata": {
    "editable": true,
    "slideshow": {
     "slide_type": ""
    },
    "tags": []
   },
   "outputs": [],
   "source": [
    "# Write your code here 在此編程\n",
    "\n"
   ]
  },
  {
   "cell_type": "markdown",
   "id": "b07ca222-bf4a-498f-a75f-a3c423683b3e",
   "metadata": {
    "editable": true,
    "jp-MarkdownHeadingCollapsed": true,
    "slideshow": {
     "slide_type": ""
    },
    "tags": []
   },
   "source": [
    "#### Answer 答案"
   ]
  },
  {
   "cell_type": "code",
   "execution_count": null,
   "id": "86d13dcd-1243-4580-88e5-4ced910f0f21",
   "metadata": {
    "editable": true,
    "jp-MarkdownHeadingCollapsed": true,
    "slideshow": {
     "slide_type": ""
    },
    "tags": []
   },
   "outputs": [],
   "source": [
    "for x in range(20):\n",
    "    print(\"Hi\")"
   ]
  },
  {
   "cell_type": "markdown",
   "id": "e6046fc8-1f38-464f-827e-b6e9d0fc80fe",
   "metadata": {
    "editable": true,
    "slideshow": {
     "slide_type": ""
    },
    "tags": []
   },
   "source": [
    "## 2.7 While loop 循環"
   ]
  },
  {
   "cell_type": "markdown",
   "id": "d07c1c26-5324-4585-a1ee-461218e45527",
   "metadata": {
    "editable": true,
    "slideshow": {
     "slide_type": ""
    },
    "tags": []
   },
   "source": [
    "\n",
    "While loop repeats a series of statements until the condition given is satisfied.<br>\n",
    "\n",
    "While 循環會將一系列的指令重覆，直至指定的條件符合。\n",
    "```python\n",
    "while condition:\n",
    "    statement_A\n",
    "    statement_B\n",
    "    ...\n",
    "```\n",
    "\n",
    "![img5](img5.png)<br>\n",
    "You can replicate a for loop by using while loop:<br>\n",
    "\n",
    "你可以用 While 循環去模擬一個 For 循環："
   ]
  },
  {
   "cell_type": "code",
   "execution_count": null,
   "id": "414eea40-dba4-4624-b148-d5ed74ae0a2d",
   "metadata": {},
   "outputs": [],
   "source": [
    "x = 0\n",
    "while x < 5:\n",
    "    print(x)\n",
    "    x = x + 1"
   ]
  },
  {
   "cell_type": "markdown",
   "id": "1d3ce0af-20b2-470f-b727-9bc26c805cb5",
   "metadata": {},
   "source": [
    "While loops can also be used to validate data input:<br>\n",
    "\n",
    "While 循環亦可用作輸入校驗："
   ]
  },
  {
   "cell_type": "code",
   "execution_count": null,
   "id": "27dfc5f2-bc26-4656-94e5-2b0b5c254b39",
   "metadata": {},
   "outputs": [],
   "source": [
    "age = -1\n",
    "while not(age >= 0 and age <= 150):\n",
    "    age = int(input(\"Input your age (0 - 150): \"))\n",
    "print(\"You are \" + str(age) + \" year(s) old.\")"
   ]
  },
  {
   "cell_type": "markdown",
   "id": "c6a34f85-5199-4859-bbcb-3d2c60d3d8c5",
   "metadata": {
    "editable": true,
    "slideshow": {
     "slide_type": ""
    },
    "tags": []
   },
   "source": [
    "## 2.8 Customized functions 自定義函數"
   ]
  },
  {
   "cell_type": "markdown",
   "id": "f7f73b02-e222-48a4-a2bf-4a83a396d57f",
   "metadata": {
    "editable": true,
    "slideshow": {
     "slide_type": ""
    },
    "tags": []
   },
   "source": [
    "`print()`, `input()` and `range()` are built-in functions of Python.<br>\n",
    "Apart from them, we can define our own functions, just like this.<br>\n",
    "\n",
    "`print()`、`input()`、及`range()` 都是 Python 的內建函數。<br>\n",
    "除此之外，我們可以自行定義函數，就像這樣：\n",
    "```python\n",
    "def my_function():\n",
    "    print('Hello')\n",
    "    print('Bye')\n",
    "```"
   ]
  },
  {
   "cell_type": "code",
   "execution_count": null,
   "id": "cd5e02d8-8613-430b-8b40-522d40e20185",
   "metadata": {
    "editable": true,
    "slideshow": {
     "slide_type": ""
    },
    "tags": []
   },
   "outputs": [],
   "source": [
    "def my_function():\n",
    "    print(\"Hello\")\n",
    "    print(\"Bye\")"
   ]
  },
  {
   "cell_type": "markdown",
   "id": "fa17b2e1-3139-4cc1-b423-546ed8999047",
   "metadata": {},
   "source": [
    "To use the function, simply use:<br>\n",
    "\n",
    "如要使用定義的函數，就使用：\n",
    "```python\n",
    "my_function()\n",
    "```\n",
    "All the steps in the function will be executed one by one.<br>\n",
    "\n",
    "函數中的每一條指令將被遂一執行。"
   ]
  },
  {
   "cell_type": "code",
   "execution_count": null,
   "id": "cf373046-f237-48a0-b537-c6665802caf2",
   "metadata": {},
   "outputs": [],
   "source": [
    "my_function()\n",
    "my_function()"
   ]
  },
  {
   "cell_type": "markdown",
   "id": "396a0c64-51d9-48fd-b3d0-b899d809a89d",
   "metadata": {},
   "source": [
    "#### Functions with parameters 有参數的函數\n",
    "You can define functions that requires input everytime it is called.<br>\n",
    "\n",
    "你可以定義一些每次都需要傳入數值的函數。\n",
    "```python\n",
    "def function_name(parameter1, parameter2, ...)\n",
    "    statement_A\n",
    "    statement_B\n",
    "    ...\n",
    "    \n",
    "function_name(input1, input2, ...)\n",
    "```\n",
    "\n",
    "The parameters are used as normal variables inside the function.<br>\n",
    "\n",
    "在函數中，参數與一般變量無異。"
   ]
  },
  {
   "cell_type": "code",
   "execution_count": null,
   "id": "4971de0e-15e0-4e93-ad9d-9ae982651de2",
   "metadata": {},
   "outputs": [],
   "source": [
    "# Run me first! 先執行我！\n",
    "def add(num1, num2):\n",
    "    print(num1 + num2)"
   ]
  },
  {
   "cell_type": "code",
   "execution_count": null,
   "id": "42129e2b-8936-4bcd-a09d-80a4301d850c",
   "metadata": {},
   "outputs": [],
   "source": [
    "add(4, 5)\n",
    "add(\"Hello \", \"World!\")"
   ]
  },
  {
   "cell_type": "markdown",
   "id": "5fe3cbb3-4e4f-4e53-a1fb-c773776d55fc",
   "metadata": {},
   "source": [
    "### Functions with return values 有傳回數值的函數\n",
    "You can use `return` to define return values of a function.<br>\n",
    "The function is quitted immediately after a value is returned.<br>\n",
    "\n",
    "你可以用 `return` 去定義函數傳回的數值。當一個數值被傳回，函數會立即被終止。"
   ]
  },
  {
   "cell_type": "code",
   "execution_count": null,
   "id": "3e922e68-656c-4c37-a843-452d8b6d6aac",
   "metadata": {},
   "outputs": [],
   "source": [
    "# Run me first!\n",
    "def returnSum(num1, num2):\n",
    "    return num1 + num2\n",
    "    print(\"I am not printed\") # Function quitted as a value is returned 數值已傳回，函數已終止"
   ]
  },
  {
   "cell_type": "markdown",
   "id": "bd4886a6-7dd1-48d7-bb96-1ca972e2ce24",
   "metadata": {},
   "source": [
    "<hr>\n",
    "\n",
    "You can store the return value in a variable.<br>\n",
    "\n",
    "你可以將傳回的數值存在變量之中。"
   ]
  },
  {
   "cell_type": "code",
   "execution_count": null,
   "id": "61ad8d94-2f37-42fe-b306-d16c4f646a8b",
   "metadata": {},
   "outputs": [],
   "source": [
    "result = returnSum(3, 6)      # Result is returned and stored\n",
    "print(result)                 # Result is printed"
   ]
  },
  {
   "cell_type": "markdown",
   "id": "d6055151-11bf-4e1f-a81c-a1dd002433d6",
   "metadata": {},
   "source": [
    "<hr>\n",
    "\n",
    "You can also print it directly.<br>\n",
    "\n",
    "你亦可以將它們直接顯示出來。"
   ]
  },
  {
   "cell_type": "code",
   "execution_count": null,
   "id": "2ad0d571-ccb9-4f60-ba3a-47085261638a",
   "metadata": {},
   "outputs": [],
   "source": [
    "print(returnSum(14, 34))      # Result is returned and printed"
   ]
  },
  {
   "cell_type": "markdown",
   "id": "6fadaf93-be06-4861-80ba-afd6b168376b",
   "metadata": {
    "editable": true,
    "slideshow": {
     "slide_type": ""
    },
    "tags": []
   },
   "source": [
    "#### Global and local variables 全局及局部變量\n",
    "**Global variables**: Defined outside functions, accessed anywhere<br>\n",
    "**Local variables**: Defined inside functions, accessed in that function only<br>\n",
    "\n",
    "**全局變量**：於函數外被定義的變量，可在任何地方存取。<br>\n",
    "**局部變量**：於函數內被定義的變量，只可在該函數中存取。<br>\n",
    "<br>\n",
    "Attempting to access a **local** variable outside the function, or in any other functions, causes an error:<br>\n",
    "\n",
    "嘗試在函數以外、或其他函數中，存取局部變量，會造成錯誤："
   ]
  },
  {
   "cell_type": "code",
   "execution_count": null,
   "id": "756509cd-b0c8-4084-8385-138f314d499f",
   "metadata": {
    "editable": true,
    "slideshow": {
     "slide_type": ""
    },
    "tags": []
   },
   "outputs": [],
   "source": [
    "def hello():\n",
    "    name = \"Peter\"\n",
    "    print(\"Hello \" + name)\n",
    "\n",
    "hello()\n",
    "print(name)"
   ]
  },
  {
   "cell_type": "markdown",
   "id": "aa33b24b-5d7b-4e41-8ddc-ea3bac690f12",
   "metadata": {},
   "source": [
    "<hr>\n",
    "\n",
    "However, they can be made global by adding this line in the function:<br>\n",
    "\n",
    "不過，你可以新增以下這一行去令局部變量變成全局變量：\n",
    "```python\n",
    "global name\n",
    "```\n",
    "Try it out!<br>\n",
    "試試看！"
   ]
  },
  {
   "cell_type": "code",
   "execution_count": null,
   "id": "dabcdfbc-6fcd-4885-a611-050964fe15c9",
   "metadata": {},
   "outputs": [],
   "source": [
    "def hello():\n",
    "    global name\n",
    "    name = \"Peter\"\n",
    "    print(\"Hello \" + name)\n",
    "\n",
    "hello()\n",
    "print(name)"
   ]
  },
  {
   "cell_type": "markdown",
   "id": "9d6f1659-7385-442d-83c0-f319b83474ba",
   "metadata": {},
   "source": [
    "<hr>\n",
    "\n",
    "Moreover, global variables and local variables can have the same variable name while storing different values.<br>\n",
    "In a function, local variables have higher priorities than global variables:<br>\n",
    "\n",
    "另外，全局變量和局部變量可以有同一個名稱，並儲存不同的值。在函數中，局部變量比全局變量優先度更高："
   ]
  },
  {
   "cell_type": "code",
   "execution_count": null,
   "id": "591c0b8d-2ccf-4056-a27e-ed7b10b55d83",
   "metadata": {},
   "outputs": [],
   "source": [
    "def hello():\n",
    "    name = \"Peter\"              # Private: Does not overwrite Ben\n",
    "    print(\"Private: \" + name)   # Private (Peter) > Global (Ben)\n",
    "    \n",
    "name = \"Ben\"                    # Global\n",
    "hello()\n",
    "print(\"Global: \" + name)        # Ben is still here"
   ]
  },
  {
   "cell_type": "markdown",
   "id": "649f932d-225e-440f-8944-5cce5ac3ef6f",
   "metadata": {
    "editable": true,
    "slideshow": {
     "slide_type": ""
    },
    "tags": []
   },
   "source": [
    "#### Benefits of using functions 使用函數的好處\n",
    "- Break down a large task into smaller tasks.<br>\n",
    "- Easier to complete one by one.\n",
    "- Readable and organized structure.\n",
    "<br>\n",
    "<br>\n",
    "- 將一個較大的工作轉換成數個較小的工作\n",
    "- 將小工作逐一撃破更容易\n",
    "- 更可讀及有序的結構\n",
    "\n",
    "<br>\n",
    "In later chapters, you will be asked to complete functions for different game actions as well.<br>\n",
    "\n",
    "在之後的單元，你將需要完成一試遊戲中用到的函數。"
   ]
  },
  {
   "cell_type": "markdown",
   "id": "bc8ce6a7-0b31-4da6-b434-cc6107cfa302",
   "metadata": {
    "editable": true,
    "slideshow": {
     "slide_type": ""
    },
    "tags": []
   },
   "source": [
    "## Chapter Quiz 單元小測 (20 min.)"
   ]
  },
  {
   "cell_type": "markdown",
   "id": "6eb3fbb2-cb54-4644-84f9-4d73218b4af8",
   "metadata": {
    "editable": true,
    "slideshow": {
     "slide_type": ""
    },
    "tags": []
   },
   "source": [
    "#### Question 問題 1\n"
   ]
  },
  {
   "cell_type": "markdown",
   "id": "611e7880-f93c-4b7a-b7e4-88e77031c2f6",
   "metadata": {
    "editable": true,
    "slideshow": {
     "slide_type": ""
    },
    "tags": []
   },
   "source": [
    "Finish the code below to print the result of x * y:<br>\n",
    "完成以下程式碼以顯示 x * y 的結果："
   ]
  },
  {
   "cell_type": "code",
   "execution_count": null,
   "id": "5d242530-ec6d-4533-a335-9d8c31510b7f",
   "metadata": {
    "editable": true,
    "slideshow": {
     "slide_type": ""
    },
    "tags": []
   },
   "outputs": [],
   "source": [
    "x = 10\n",
    "y = 20\n"
   ]
  },
  {
   "cell_type": "markdown",
   "id": "b23a7b59-8591-4841-99b6-62ab76c9d000",
   "metadata": {
    "editable": true,
    "slideshow": {
     "slide_type": ""
    },
    "tags": []
   },
   "source": [
    "#### Question 問題 2 "
   ]
  },
  {
   "cell_type": "markdown",
   "id": "3546ad1a-4f0f-46b2-933d-b40f733e4ec7",
   "metadata": {
    "editable": true,
    "slideshow": {
     "slide_type": ""
    },
    "tags": []
   },
   "source": [
    "```python\n",
    "print(\"x is larger than y\")\n",
    "print(\"x is smaller than y\")\n",
    "print(\" x is equal to y\")\n",
    "```\n",
    "Fill in the blanks with the lines above to print the correct results:<br>\n",
    "用以上數行填充以下空格，以顯示正確的結果："
   ]
  },
  {
   "cell_type": "code",
   "execution_count": null,
   "id": "5033dd49-24e4-49ae-ab5a-b2af761c11cc",
   "metadata": {
    "editable": true,
    "slideshow": {
     "slide_type": ""
    },
    "tags": []
   },
   "outputs": [],
   "source": [
    "x = float(input(\"x = \"))\n",
    "y = float(input(\"y = \"))\n",
    "if x >= y:\n",
    "    if x == y:\n",
    "        (      )\n",
    "    else:\n",
    "        (      )\n",
    "else:\n",
    "    (      )        "
   ]
  },
  {
   "cell_type": "markdown",
   "id": "2131740c-33d8-4530-8080-3549b0d8ba90",
   "metadata": {
    "editable": true,
    "slideshow": {
     "slide_type": ""
    },
    "tags": []
   },
   "source": [
    "#### Question 問題 3"
   ]
  },
  {
   "cell_type": "markdown",
   "id": "3863cf75-d607-4338-8962-ff6d726e56b2",
   "metadata": {
    "editable": true,
    "slideshow": {
     "slide_type": ""
    },
    "tags": []
   },
   "source": [
    "Complete the code below to print the first 20 multiples of 3:<br>\n",
    "完成以下程式碼以顯示首20個3的倍數："
   ]
  },
  {
   "cell_type": "code",
   "execution_count": null,
   "id": "8b7cf6b4-97a9-4800-9eef-3624c6c7a3ec",
   "metadata": {
    "editable": true,
    "slideshow": {
     "slide_type": ""
    },
    "tags": []
   },
   "outputs": [],
   "source": [
    "for x in range(     ):\n",
    "    print(     )"
   ]
  },
  {
   "cell_type": "markdown",
   "id": "2fe46626-89d8-4b4d-8188-f709d48eb9be",
   "metadata": {
    "editable": true,
    "slideshow": {
     "slide_type": ""
    },
    "tags": []
   },
   "source": [
    "#### Question 問題 4 [Challenging 挑戰題]"
   ]
  },
  {
   "cell_type": "markdown",
   "id": "532601e4-622f-49e2-801d-1e1c2216550c",
   "metadata": {
    "editable": true,
    "slideshow": {
     "slide_type": ""
    },
    "tags": []
   },
   "source": [
    "Create a function that returns either `Odd` (for odd numbers) or `Even` (for even numbers):<br>\n",
    "創建一個傅回 `Odd` (單數) 或 `Even` (雙數) 的函數："
   ]
  },
  {
   "cell_type": "code",
   "execution_count": null,
   "id": "8080fe51-ba41-475f-a1c3-af0864c18702",
   "metadata": {
    "editable": true,
    "slideshow": {
     "slide_type": ""
    },
    "tags": []
   },
   "outputs": [],
   "source": [
    "def OddEven(number):\n",
    "    "
   ]
  },
  {
   "cell_type": "code",
   "execution_count": null,
   "id": "7ca8f88a-1ea9-45e3-b317-1ae192938526",
   "metadata": {
    "editable": true,
    "slideshow": {
     "slide_type": ""
    },
    "tags": []
   },
   "outputs": [],
   "source": [
    "# Checking here 在此檢查\n",
    "print(OddEven(3))\n",
    "print(OddEven(12))"
   ]
  },
  {
   "cell_type": "markdown",
   "id": "215c4b77-1e19-4792-af4a-e78cfa87f5a4",
   "metadata": {
    "editable": true,
    "slideshow": {
     "slide_type": ""
    },
    "tags": []
   },
   "source": [
    "### Answers 答案"
   ]
  },
  {
   "cell_type": "markdown",
   "id": "62d7d130-b007-419a-9a82-053316f59e56",
   "metadata": {
    "editable": true,
    "jp-MarkdownHeadingCollapsed": true,
    "slideshow": {
     "slide_type": ""
    },
    "tags": []
   },
   "source": [
    "#### Question 問題 1\n"
   ]
  },
  {
   "cell_type": "code",
   "execution_count": null,
   "id": "5815dd5d-3c37-4af6-a27e-ae8d7e47e13b",
   "metadata": {
    "editable": true,
    "slideshow": {
     "slide_type": ""
    },
    "tags": []
   },
   "outputs": [],
   "source": [
    "x = 10\n",
    "y = 20\n",
    "print(x * y)"
   ]
  },
  {
   "cell_type": "markdown",
   "id": "b3d0bfad-2dee-444a-8218-a7602a14bd9f",
   "metadata": {
    "editable": true,
    "jp-MarkdownHeadingCollapsed": true,
    "slideshow": {
     "slide_type": ""
    },
    "tags": []
   },
   "source": [
    "#### Question 問題 2\n"
   ]
  },
  {
   "cell_type": "code",
   "execution_count": null,
   "id": "f4978719-5950-4d2e-be3a-eefb3bdb76fe",
   "metadata": {
    "editable": true,
    "slideshow": {
     "slide_type": ""
    },
    "tags": []
   },
   "outputs": [],
   "source": [
    "x = float(input(\"x = \"))\n",
    "y = float(input(\"y = \"))\n",
    "if x >= y:\n",
    "    if x == y:\n",
    "        print(\"x is equal to y\")\n",
    "    else:\n",
    "        print(\"x is larger than y\")\n",
    "else:\n",
    "    print(\"x is smaller than y\")     "
   ]
  },
  {
   "cell_type": "markdown",
   "id": "9a1bc3f8-23db-4c3e-a761-d989310bb644",
   "metadata": {
    "editable": true,
    "jp-MarkdownHeadingCollapsed": true,
    "slideshow": {
     "slide_type": ""
    },
    "tags": []
   },
   "source": [
    "#### Question 問題 3"
   ]
  },
  {
   "cell_type": "code",
   "execution_count": null,
   "id": "d64d0b60-a258-4c6e-ba28-8f4b5ce51986",
   "metadata": {
    "editable": true,
    "slideshow": {
     "slide_type": ""
    },
    "tags": []
   },
   "outputs": [],
   "source": [
    "for x in range(20):\n",
    "    print(x * 3 + 3)"
   ]
  },
  {
   "cell_type": "code",
   "execution_count": null,
   "id": "dd2a8dca-8cba-4e99-a0bd-c309284c95aa",
   "metadata": {
    "editable": true,
    "slideshow": {
     "slide_type": ""
    },
    "tags": []
   },
   "outputs": [],
   "source": [
    "for x in range(20):\n",
    "    print((x + 1) * 3)"
   ]
  },
  {
   "cell_type": "code",
   "execution_count": null,
   "id": "ecbad657-0137-45df-b398-837cddf88f92",
   "metadata": {
    "editable": true,
    "slideshow": {
     "slide_type": ""
    },
    "tags": []
   },
   "outputs": [],
   "source": [
    "# Challenging 挑戰性\n",
    "for x in range(1, 21):\n",
    "    print(x * 3)"
   ]
  },
  {
   "cell_type": "code",
   "execution_count": null,
   "id": "66680267-8009-4513-a242-d8aa87b8ea02",
   "metadata": {
    "editable": true,
    "slideshow": {
     "slide_type": ""
    },
    "tags": []
   },
   "outputs": [],
   "source": [
    "# Extra 額外\n",
    "for x in range(3, 63, 3):\n",
    "    print(x)"
   ]
  },
  {
   "cell_type": "markdown",
   "id": "68152e37-a5d2-4e80-aaf4-aef368594fa2",
   "metadata": {
    "editable": true,
    "slideshow": {
     "slide_type": ""
    },
    "tags": []
   },
   "source": [
    "Any other reasonable answers"
   ]
  },
  {
   "cell_type": "markdown",
   "id": "83ea95db-72db-431e-9fa2-4f837e0528fc",
   "metadata": {
    "editable": true,
    "jp-MarkdownHeadingCollapsed": true,
    "slideshow": {
     "slide_type": ""
    },
    "tags": []
   },
   "source": [
    "#### Question 問題 4\n"
   ]
  },
  {
   "cell_type": "code",
   "execution_count": 27,
   "id": "1fc6ed58-bec9-43c6-a449-2ac6a86c1175",
   "metadata": {
    "editable": true,
    "slideshow": {
     "slide_type": ""
    },
    "tags": []
   },
   "outputs": [],
   "source": [
    "def OddEven(number):\n",
    "    if number % 2 == 1:\n",
    "        return \"Odd\"\n",
    "    else:\n",
    "        return \"Even\""
   ]
  },
  {
   "cell_type": "markdown",
   "id": "a937ea4a-353f-440b-bb2b-e427d011271a",
   "metadata": {
    "editable": true,
    "slideshow": {
     "slide_type": ""
    },
    "tags": []
   },
   "source": [
    "## Break 小休 (5 ~ 10 min.)"
   ]
  },
  {
   "cell_type": "markdown",
   "id": "7cd04d9d-4aaf-44d1-902e-278de1305137",
   "metadata": {},
   "source": [
    "## Graphic Design 圖像設計 (30 ~ 45 min.)\n",
    "Tutors should proceed to PowerPoint P.7<BR>\n",
    "導師請前往PowerPoint第7頁"
   ]
  },
  {
   "cell_type": "markdown",
   "id": "cf5bd8fb-ad05-4a14-9d3a-23f5fbe101c9",
   "metadata": {
    "editable": true,
    "slideshow": {
     "slide_type": ""
    },
    "tags": []
   },
   "source": [
    "\n",
    "Before we proceed, make sure that you have your own graphics ready.<br>\n",
    "We need 4 images:<br>\n",
    "\n",
    "在我們繼續之前，確保你已準備好自己的圖像。我們需要4張圖：\n",
    "* `bird.png` : The bird (Player) 小鳥 (玩家)<br>\n",
    "* `bird_dead.png` : The bird (Player) when game over 遊戲結束時的小鳥 (玩家)<br>\n",
    "* `pipe.png` : The pipes (Opening on top) 水管 (開口在頂部)<br>\n",
    "* `bg.png` : The background 背景<br>\n",
    "\n",
    "The images should be put into the file `graphics` (located in the folder with all chapters)<BR>\n",
    "\n",
    "所有圖片都應放置於 `graphics` 資料夾中 (位於查看所有單元的資料夾中)\n",
    "\n",
    "**Pay close attention to the tutor's demonstration.**<BR>\n",
    "**Feel free to raise questions immediately if you are not clear about the instructions, or forgot about it**<BR>\n",
    "**請細心留意導師示範，有不明白或忘記的地方請馬上指出。**"
   ]
  }
 ],
 "metadata": {
  "kernelspec": {
   "display_name": "Python 3 (ipykernel)",
   "language": "python",
   "name": "python3"
  },
  "language_info": {
   "codemirror_mode": {
    "name": "ipython",
    "version": 3
   },
   "file_extension": ".py",
   "mimetype": "text/x-python",
   "name": "python",
   "nbconvert_exporter": "python",
   "pygments_lexer": "ipython3",
   "version": "3.11.4"
  },
  "toc": {
   "base_numbering": 1
  }
 },
 "nbformat": 4,
 "nbformat_minor": 5
}
