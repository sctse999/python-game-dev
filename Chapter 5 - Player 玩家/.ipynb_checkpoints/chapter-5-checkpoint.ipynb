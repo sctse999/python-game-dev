{
 "cells": [
  {
   "cell_type": "markdown",
   "id": "885a3590-cac2-4d25-b51c-9c9ff4767b09",
   "metadata": {},
   "source": [
    "# Chapter 5 - Player 玩家"
   ]
  },
  {
   "cell_type": "markdown",
   "id": "f98d5c69-1204-428a-9398-e407f5cfded1",
   "metadata": {
    "editable": true,
    "slideshow": {
     "slide_type": ""
    },
    "tags": []
   },
   "source": [
    "Import Pygame and Initiate the variables used in this chapter first!<br>\n",
    "\n",
    "先匯入 Pygame 及初始化本單元用到的變量！"
   ]
  },
  {
   "cell_type": "code",
   "execution_count": 5,
   "id": "4dfc6457-43c4-48d7-a54f-6c74c764fc76",
   "metadata": {
    "editable": true,
    "slideshow": {
     "slide_type": ""
    },
    "tags": []
   },
   "outputs": [],
   "source": [
    "import pygame\n",
    "def gameReset():\n",
    "    global gameActive, isGameOver, bird_posy, bird_vel, score, distance, bird_surf, bg_surf, pipes, lastPipe, bird_rect, speed, bird_acc, score_surf, score_rect, score_text, pipeDistance, gap_width, normal_text, start_surf, start_rect\n",
    "    bird_surf = pygame.transform.scale(pygame.image.load('../graphics/bird.png'), (64, 64))                    \n",
    "    bird_rect = bird_surf.get_rect(center = (60, 300))                         \n",
    "    bg_surf = pygame.transform.scale(pygame.image.load(\"../graphics/bg.png\"), (800, 600))                          \n",
    "    normal_text = pygame.font.Font(None, 50)                                   \n",
    "    bird_acc = 0.5                                                             # Used in 用於 5.1\n",
    "    bird_posy = 300                                                            # Used in 用於 5.1\n",
    "    bird_vel = -10                                                             # Used in 用於 5.1 "
   ]
  },
  {
   "cell_type": "markdown",
   "id": "de328d20-b4ab-4faf-9b89-123bb9735cc8",
   "metadata": {
    "editable": true,
    "slideshow": {
     "slide_type": ""
    },
    "tags": []
   },
   "source": [
    "## 5.1 Gravity 重力"
   ]
  },
  {
   "cell_type": "markdown",
   "id": "1249de21-3824-418c-8ec8-1ee81568bbf2",
   "metadata": {
    "editable": true,
    "slideshow": {
     "slide_type": ""
    },
    "tags": []
   },
   "source": [
    "\n",
    "In chapter 4, we learnt how to move an image with constant speed.<br>\n",
    "In real life, free falling objects fall with increasing speed, i.e. with acceleration.<br>\n",
    "Accleration is a constant, and it descibes the rate of change of velocity.<br>\n",
    "\n",
    "在單元4中，我們學到了如何以不變的速度移動圖片。在現實生活中，物體會以不斷上升的速度跌落，即是有加速度。<BR>\n",
    "當中，加速度為常數，並表達了速率改變的速度。<BR>\n",
    "\n",
    "### $a = {Δv \\over Δt}$<br>\n",
    "### $v = {Δs \\over Δt}$\n",
    "\n",
    "~~No this is not a Physics lesson. 這不是物理課。~~<br>\n",
    "\n",
    "To replicate gravity, we can store the acceleration and the velocity of the player as variables.<br>\n",
    "\n",
    "要模仿出重力，我們可以將玩家的加速度和速率在變量中儲存起來。\n",
    "<hr>\n",
    "\n",
    "Note that **downwards** is **positive y** but not negative y, therefore, the acceleration should be a **positive** value.<BR>\n",
    "\n",
    "留意**向下**為**正Y**而非負Y，因此，加速度應為一個**正數**。"
   ]
  },
  {
   "cell_type": "markdown",
   "id": "169d7ac9-d017-403b-89ea-39b66ce442bc",
   "metadata": {
    "editable": true,
    "slideshow": {
     "slide_type": ""
    },
    "tags": []
   },
   "source": [
    "<hr>\n",
    "Now run the following code:<BR>\n",
    "\n",
    "現在執行以下程式碼："
   ]
  },
  {
   "cell_type": "code",
   "execution_count": 8,
   "id": "b0939a50-b846-4543-95d0-480853a7ef68",
   "metadata": {
    "editable": true,
    "slideshow": {
     "slide_type": ""
    },
    "tags": []
   },
   "outputs": [],
   "source": [
    "import pygame\n",
    "pygame.init()\n",
    "\n",
    "screen = pygame.display.set_mode((800, 600))\n",
    "running = True\n",
    "clock = pygame.time.Clock()\n",
    "gameReset()\n",
    "\n",
    "### Change the acceleration here ###\n",
    "\n",
    "bird_acc = 0.5\n",
    "\n",
    "########### 在此編輯加速度 ###########\n",
    "\n",
    "while running:\n",
    "    screen.blit(bg_surf, (0, 0))   \n",
    "    screen.blit(bird_surf, bird_rect)   \n",
    "    for event in pygame.event.get():\n",
    "        if event.type == pygame.QUIT:\n",
    "            running = False\n",
    "\n",
    "    ####################### Bird Physics #######################\n",
    "    \n",
    "    bird_vel += bird_acc\n",
    "    bird_posy += bird_vel\n",
    "    bird_rect.y = bird_posy\n",
    "\n",
    "    ########################## 物理 ##############################\n",
    " \n",
    "    pygame.display.update()                 \n",
    "    clock.tick(60)                          \n",
    "    \n",
    "pygame.quit() "
   ]
  },
  {
   "cell_type": "markdown",
   "id": "77fca727-4307-421f-8746-368d8e537669",
   "metadata": {
    "editable": true,
    "slideshow": {
     "slide_type": ""
    },
    "tags": []
   },
   "source": [
    "<hr>\n",
    "\n",
    "Now try to change the value of the acceleration, then run the above code again, and see what happens! (Default: 0.5)<BR>\n",
    "\n",
    "現在試改變加速度的數值，再執行以上程式碼，觀察有什麼不同！(預設：0.5)"
   ]
  },
  {
   "cell_type": "markdown",
   "id": "834eb36f-2b1c-4028-a9da-7a0f2c2cf3b2",
   "metadata": {
    "editable": true,
    "slideshow": {
     "slide_type": ""
    },
    "tags": []
   },
   "source": [
    "## 5.2 Jumping 跳躍"
   ]
  },
  {
   "cell_type": "markdown",
   "id": "a497bd72-bdb9-47b5-aeb1-b43d9186c7af",
   "metadata": {
    "editable": true,
    "slideshow": {
     "slide_type": ""
    },
    "tags": []
   },
   "source": [
    "To jump, the velocity should be set upwards, i.e. **negative y**.<br>\n",
    "Try to use `bird_vel` to complete the `jump()` function, and test it with different velocity values: **(10 min.)**<BR>\n",
    "\n",
    "要跳躍，就應有一個向上的速率，即**負Y**<BR>\n",
    "試使用 `bird_vel` 完成以下函數，並用不同的數值進行測試： **(10分鐘)**"
   ]
  },
  {
   "cell_type": "code",
   "execution_count": 11,
   "id": "f09c2b2c-6a17-48b0-8afa-f355de3c3e94",
   "metadata": {
    "editable": true,
    "slideshow": {
     "slide_type": ""
    },
    "tags": []
   },
   "outputs": [],
   "source": [
    "def jump():\n",
    "    global bird_vel\n",
    "    # Write the jump() function here 在此編寫 jump() 函數\n",
    "    "
   ]
  },
  {
   "cell_type": "markdown",
   "id": "2d8e52ec-fb33-4dcd-97d7-2d0d5aa6da73",
   "metadata": {},
   "source": [
    "Note: Suggested value is -10<BR>\n",
    "注意：建議值為 -10"
   ]
  },
  {
   "cell_type": "markdown",
   "id": "7bdfef34-c6d8-4d75-9777-ee4c990d2504",
   "metadata": {
    "editable": true,
    "slideshow": {
     "slide_type": ""
    },
    "tags": []
   },
   "source": [
    "<hr>\n",
    "\n",
    "The following code runs the `jump()` function when the `Space` button is pressed.<br>\n",
    "You may also try to change the acceleration together with the jumping velocity.<BR>\n",
    "After completing the `jump()` function, run the following code to test it out:<BR>\n",
    "\n",
    "在以下程式碼中，每當 `Space` 被按下，就會執行 `jump()` 函數。<BR>\n",
    "你亦可以嘗試將加速度與跳躍速率一同編緝。<BR>\n",
    "在完成 `jump()` 函數後，執行以下程式碼以進行測試："
   ]
  },
  {
   "cell_type": "code",
   "execution_count": 12,
   "id": "8b2f442a-62d8-4a53-99d1-1e1717094322",
   "metadata": {
    "editable": true,
    "slideshow": {
     "slide_type": ""
    },
    "tags": []
   },
   "outputs": [],
   "source": [
    "import pygame\n",
    "pygame.init()\n",
    "\n",
    "screen = pygame.display.set_mode((800, 600))\n",
    "running = True\n",
    "clock = pygame.time.Clock()\n",
    "gameReset()\n",
    "\n",
    "### Change the acceleration here ###\n",
    "\n",
    "bird_acc = 0.5\n",
    "\n",
    "########### 在此編輯加速度 ###########\n",
    "\n",
    "while running:\n",
    "    screen.blit(bg_surf, (0, 0))      \n",
    "    screen.blit(bird_surf, bird_rect)\n",
    "    for event in pygame.event.get():\n",
    "        if event.type == pygame.QUIT:\n",
    "            running = False\n",
    "        if event.type == pygame.KEYDOWN:\n",
    "            if event.key == pygame.K_SPACE:\n",
    "                jump() # Calls the jump function\n",
    "    \n",
    "    bird_vel += bird_acc\n",
    "    bird_posy += bird_vel    \n",
    "    ############################################################\n",
    "    # Add a conditional statement here 在此加上條件運算式\n",
    "    \n",
    "\n",
    "    ############################################################                   \n",
    "    bird_rect.y = bird_posy\n",
    "    pygame.display.update()                 \n",
    "    clock.tick(60)                          \n",
    "    \n",
    "pygame.quit() "
   ]
  },
  {
   "cell_type": "markdown",
   "id": "5ba005b8-1ce3-432a-b9c2-ce6f468f12f2",
   "metadata": {
    "editable": true,
    "slideshow": {
     "slide_type": ""
    },
    "tags": []
   },
   "source": [
    "Note that the bird can now fly beyond the boundaries of the window, which is not ideal.<br>\n",
    "This can be fixed by setting both the velocity (`bird_vel`) and y position (`bird_posy`) of the bird to 0 (top of the screen), whenever the y position is negative (out of the screen).<br>\n",
    "\n",
    "留意現在玩家可以飛出視窗邊界，而這並不是太好。<BR>\n",
    "我們可以透過在玩家的 Y 位置為負數時 (在視窗以外)，將速率 (`bird_vel`) 及 Y 位置 (`bird_posy`) 設為 0 (視窗頂部) ，以進行修復。<BR>\n",
    "<BR>\n",
    "Add a **conditional statement** to the code above, to implement this feature!<BR>\n",
    "\n",
    "在以上的程式碼新增一個**條件運算式**，以新增此功能！"
   ]
  },
  {
   "cell_type": "markdown",
   "id": "972e373d-90e7-4969-90fd-2cbb0a8601b9",
   "metadata": {},
   "source": [
    "### Answer 答案"
   ]
  },
  {
   "cell_type": "code",
   "execution_count": 15,
   "id": "a0372d52-793a-4d89-b5e2-4ce2763e96f3",
   "metadata": {},
   "outputs": [],
   "source": [
    "import pygame\n",
    "pygame.init()\n",
    "\n",
    "def jump():\n",
    "    global bird_vel\n",
    "    bird_vel = -10\n",
    "    \n",
    "screen = pygame.display.set_mode((800, 600))\n",
    "running = True\n",
    "clock = pygame.time.Clock()\n",
    "gameReset()\n",
    "\n",
    "while running:\n",
    "    screen.blit(bg_surf, (0, 0))      \n",
    "    screen.blit(bird_surf, bird_rect)\n",
    "    for event in pygame.event.get():\n",
    "        if event.type == pygame.QUIT:\n",
    "            running = False\n",
    "        if event.type == pygame.KEYDOWN:\n",
    "            if event.key == pygame.K_SPACE:\n",
    "                jump() # Calls the jump function\n",
    "    \n",
    "    bird_vel += bird_acc\n",
    "    bird_posy += bird_vel    \n",
    "    ############################################################\n",
    "    if bird_posy < 0:\n",
    "        bird_posy = 0\n",
    "        bird_vel = 0\n",
    "    ############################################################                   \n",
    "    bird_rect.y = bird_posy\n",
    "    pygame.display.update()                 \n",
    "    clock.tick(60)                          \n",
    "    \n",
    "pygame.quit() "
   ]
  },
  {
   "cell_type": "markdown",
   "id": "772ecfd9-f7c8-4b56-9669-be048f9b2f6e",
   "metadata": {},
   "source": [
    "#### Think about it 試想想\n",
    "Why do we need to set `bird_vel` to 0 as well?<BR>\n",
    "為什麼我們要把 `bird_vel` 也設為 0？"
   ]
  }
 ],
 "metadata": {
  "kernelspec": {
   "display_name": "Python 3 (ipykernel)",
   "language": "python",
   "name": "python3"
  },
  "language_info": {
   "codemirror_mode": {
    "name": "ipython",
    "version": 3
   },
   "file_extension": ".py",
   "mimetype": "text/x-python",
   "name": "python",
   "nbconvert_exporter": "python",
   "pygments_lexer": "ipython3",
   "version": "3.11.3"
  }
 },
 "nbformat": 4,
 "nbformat_minor": 5
}
